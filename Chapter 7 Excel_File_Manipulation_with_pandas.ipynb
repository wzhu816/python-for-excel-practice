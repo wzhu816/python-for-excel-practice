{
 "cells": [
  {
   "cell_type": "markdown",
   "id": "33de9c56",
   "metadata": {},
   "source": [
    "# Excel File Manipulation with pandas"
   ]
  },
  {
   "cell_type": "markdown",
   "id": "1df8125b",
   "metadata": {},
   "source": [
    "Pandas offers to work with Excel files:\n",
    "- the **read_excel** function and the **ExcelFile** class for reading,\n",
    "- the **to_excel** method and the **ExcelWriter** class for writing Excel files."
   ]
  },
  {
   "cell_type": "markdown",
   "id": "456948c7",
   "metadata": {},
   "source": [
    "# Case Study: Excel Reporting"
   ]
  },
  {
   "cell_type": "markdown",
   "id": "b7807f35",
   "metadata": {},
   "source": [
    "Background context: In the companion repository, in the sales_data directory, you will find Excel files with fictitious sales transactions for a telecommunication provider selling different plans (Bronze, Silver, Gold) in a few stores throughout the United States. For every month, there are two files, one in the new subfolder for new contracts and one in the existing subfolder for existing customers. As the reports come from different systems, they come in different formats: the new customers are delivered as xlsx files, while the existing customers arrive in the older xls format. Each of the files has up to 10,000 transactions, and our goal is to produce an Excel report that shows the total sales per store and month. "
   ]
  },
  {
   "cell_type": "code",
   "execution_count": 1,
   "id": "2642d8d9",
   "metadata": {},
   "outputs": [],
   "source": [
    "import pandas as pd"
   ]
  },
  {
   "cell_type": "code",
   "execution_count": 2,
   "id": "2eebec28",
   "metadata": {},
   "outputs": [],
   "source": [
    "url = (\"https://raw.githubusercontent.com/fzumstein/\"\n",
    "                    \"python-for-excel/1st-edition/xl/stores.xlsx\")"
   ]
  },
  {
   "cell_type": "code",
   "execution_count": 3,
   "id": "c8e1d007",
   "metadata": {},
   "outputs": [],
   "source": [
    "df = pd.read_excel(url)"
   ]
  },
  {
   "cell_type": "code",
   "execution_count": 4,
   "id": "5309ebd0",
   "metadata": {},
   "outputs": [
    {
     "name": "stdout",
     "output_type": "stream",
     "text": [
      "<class 'pandas.core.frame.DataFrame'>\n",
      "RangeIndex: 7 entries, 0 to 6\n",
      "Data columns (total 6 columns):\n",
      " #   Column      Non-Null Count  Dtype  \n",
      "---  ------      --------------  -----  \n",
      " 0   Unnamed: 0  0 non-null      float64\n",
      " 1   Unnamed: 1  7 non-null      object \n",
      " 2   Unnamed: 2  7 non-null      object \n",
      " 3   Unnamed: 3  7 non-null      object \n",
      " 4   Unnamed: 4  6 non-null      object \n",
      " 5   Unnamed: 5  6 non-null      object \n",
      "dtypes: float64(1), object(5)\n",
      "memory usage: 464.0+ bytes\n"
     ]
    }
   ],
   "source": [
    "df.info()"
   ]
  },
  {
   "cell_type": "code",
   "execution_count": 5,
   "id": "c6d32334",
   "metadata": {},
   "outputs": [
    {
     "name": "stdout",
     "output_type": "stream",
     "text": [
      "Reading February.xlsx\n",
      "Reading August.xlsx\n",
      "Reading April.xlsx\n",
      "Reading June.xlsx\n",
      "Reading October.xlsx\n",
      "Reading September.xlsx\n",
      "Reading July.xlsx\n",
      "Reading January.xlsx\n",
      "Reading May.xlsx\n",
      "Reading November.xlsx\n",
      "Reading December.xlsx\n",
      "Reading March.xlsx\n",
      "Reading October.xls\n",
      "Reading September.xls\n",
      "Reading April.xls\n",
      "Reading June.xls\n",
      "Reading January.xls\n",
      "Reading July.xls\n",
      "Reading February.xls\n",
      "Reading December.xls\n",
      "Reading August.xls\n",
      "Reading November.xls\n",
      "Reading March.xls\n",
      "Reading May.xls\n"
     ]
    }
   ],
   "source": [
    "!python sales_report_pandas.py"
   ]
  },
  {
   "cell_type": "markdown",
   "id": "014b4792",
   "metadata": {},
   "source": [
    "# Reading and Writing Excel Files with pandas"
   ]
  },
  {
   "cell_type": "markdown",
   "id": "e47a1a9a",
   "metadata": {},
   "source": [
    "## The read_excel Function and ExcelFile Class "
   ]
  },
  {
   "cell_type": "code",
   "execution_count": 6,
   "id": "6263e3d2",
   "metadata": {},
   "outputs": [
    {
     "data": {
      "text/html": [
       "<div>\n",
       "<style scoped>\n",
       "    .dataframe tbody tr th:only-of-type {\n",
       "        vertical-align: middle;\n",
       "    }\n",
       "\n",
       "    .dataframe tbody tr th {\n",
       "        vertical-align: top;\n",
       "    }\n",
       "\n",
       "    .dataframe thead th {\n",
       "        text-align: right;\n",
       "    }\n",
       "</style>\n",
       "<table border=\"1\" class=\"dataframe\">\n",
       "  <thead>\n",
       "    <tr style=\"text-align: right;\">\n",
       "      <th></th>\n",
       "      <th>Store</th>\n",
       "      <th>Employees</th>\n",
       "      <th>Manager</th>\n",
       "      <th>Since</th>\n",
       "      <th>Flagship</th>\n",
       "    </tr>\n",
       "  </thead>\n",
       "  <tbody>\n",
       "    <tr>\n",
       "      <th>0</th>\n",
       "      <td>New York</td>\n",
       "      <td>10</td>\n",
       "      <td>Sarah</td>\n",
       "      <td>2018-07-20</td>\n",
       "      <td>False</td>\n",
       "    </tr>\n",
       "    <tr>\n",
       "      <th>1</th>\n",
       "      <td>San Francisco</td>\n",
       "      <td>12</td>\n",
       "      <td>Neriah</td>\n",
       "      <td>2019-11-02</td>\n",
       "      <td>MISSING</td>\n",
       "    </tr>\n",
       "    <tr>\n",
       "      <th>2</th>\n",
       "      <td>Chicago</td>\n",
       "      <td>4</td>\n",
       "      <td>Katelin</td>\n",
       "      <td>2020-01-31</td>\n",
       "      <td>NaN</td>\n",
       "    </tr>\n",
       "    <tr>\n",
       "      <th>3</th>\n",
       "      <td>Boston</td>\n",
       "      <td>5</td>\n",
       "      <td>Georgiana</td>\n",
       "      <td>2017-04-01</td>\n",
       "      <td>True</td>\n",
       "    </tr>\n",
       "    <tr>\n",
       "      <th>4</th>\n",
       "      <td>Washington DC</td>\n",
       "      <td>3</td>\n",
       "      <td>Evan</td>\n",
       "      <td>NaT</td>\n",
       "      <td>False</td>\n",
       "    </tr>\n",
       "    <tr>\n",
       "      <th>5</th>\n",
       "      <td>Las Vegas</td>\n",
       "      <td>11</td>\n",
       "      <td>Paul</td>\n",
       "      <td>2020-01-06</td>\n",
       "      <td>False</td>\n",
       "    </tr>\n",
       "  </tbody>\n",
       "</table>\n",
       "</div>"
      ],
      "text/plain": [
       "           Store  Employees    Manager      Since Flagship\n",
       "0       New York         10      Sarah 2018-07-20    False\n",
       "1  San Francisco         12     Neriah 2019-11-02  MISSING\n",
       "2        Chicago          4    Katelin 2020-01-31      NaN\n",
       "3         Boston          5  Georgiana 2017-04-01     True\n",
       "4  Washington DC          3       Evan        NaT    False\n",
       "5      Las Vegas         11       Paul 2020-01-06    False"
      ]
     },
     "execution_count": 6,
     "metadata": {},
     "output_type": "execute_result"
    }
   ],
   "source": [
    "df = pd.read_excel(url,\n",
    "                  sheet_name=\"2019\", skiprows=1, usecols=\"B:F\")\n",
    "df"
   ]
  },
  {
   "cell_type": "code",
   "execution_count": 7,
   "id": "6018ec86",
   "metadata": {},
   "outputs": [
    {
     "name": "stdout",
     "output_type": "stream",
     "text": [
      "<class 'pandas.core.frame.DataFrame'>\n",
      "RangeIndex: 6 entries, 0 to 5\n",
      "Data columns (total 5 columns):\n",
      " #   Column     Non-Null Count  Dtype         \n",
      "---  ------     --------------  -----         \n",
      " 0   Store      6 non-null      object        \n",
      " 1   Employees  6 non-null      int64         \n",
      " 2   Manager    6 non-null      object        \n",
      " 3   Since      5 non-null      datetime64[ns]\n",
      " 4   Flagship   5 non-null      object        \n",
      "dtypes: datetime64[ns](1), int64(1), object(3)\n",
      "memory usage: 368.0+ bytes\n"
     ]
    }
   ],
   "source": [
    "df.info()"
   ]
  },
  {
   "cell_type": "markdown",
   "id": "b1df8c29",
   "metadata": {},
   "source": [
    "The *Flagship* column should be bool rather than object. We'll write a converter function to fix the data type."
   ]
  },
  {
   "cell_type": "code",
   "execution_count": 8,
   "id": "45475b7b",
   "metadata": {},
   "outputs": [],
   "source": [
    "def fix_missing(x):\n",
    "    return False if x in [\"\", \"MISSING\"] else x"
   ]
  },
  {
   "cell_type": "code",
   "execution_count": 9,
   "id": "23b0a2aa",
   "metadata": {},
   "outputs": [
    {
     "data": {
      "text/html": [
       "<div>\n",
       "<style scoped>\n",
       "    .dataframe tbody tr th:only-of-type {\n",
       "        vertical-align: middle;\n",
       "    }\n",
       "\n",
       "    .dataframe tbody tr th {\n",
       "        vertical-align: top;\n",
       "    }\n",
       "\n",
       "    .dataframe thead th {\n",
       "        text-align: right;\n",
       "    }\n",
       "</style>\n",
       "<table border=\"1\" class=\"dataframe\">\n",
       "  <thead>\n",
       "    <tr style=\"text-align: right;\">\n",
       "      <th></th>\n",
       "      <th>Store</th>\n",
       "      <th>Employees</th>\n",
       "      <th>Manager</th>\n",
       "      <th>Since</th>\n",
       "      <th>Flagship</th>\n",
       "    </tr>\n",
       "  </thead>\n",
       "  <tbody>\n",
       "    <tr>\n",
       "      <th>0</th>\n",
       "      <td>New York</td>\n",
       "      <td>10</td>\n",
       "      <td>Sarah</td>\n",
       "      <td>2018-07-20</td>\n",
       "      <td>False</td>\n",
       "    </tr>\n",
       "    <tr>\n",
       "      <th>1</th>\n",
       "      <td>San Francisco</td>\n",
       "      <td>12</td>\n",
       "      <td>Neriah</td>\n",
       "      <td>2019-11-02</td>\n",
       "      <td>False</td>\n",
       "    </tr>\n",
       "    <tr>\n",
       "      <th>2</th>\n",
       "      <td>Chicago</td>\n",
       "      <td>4</td>\n",
       "      <td>Katelin</td>\n",
       "      <td>2020-01-31</td>\n",
       "      <td>False</td>\n",
       "    </tr>\n",
       "    <tr>\n",
       "      <th>3</th>\n",
       "      <td>Boston</td>\n",
       "      <td>5</td>\n",
       "      <td>Georgiana</td>\n",
       "      <td>2017-04-01</td>\n",
       "      <td>True</td>\n",
       "    </tr>\n",
       "    <tr>\n",
       "      <th>4</th>\n",
       "      <td>Washington DC</td>\n",
       "      <td>3</td>\n",
       "      <td>Evan</td>\n",
       "      <td>NaT</td>\n",
       "      <td>False</td>\n",
       "    </tr>\n",
       "    <tr>\n",
       "      <th>5</th>\n",
       "      <td>Las Vegas</td>\n",
       "      <td>11</td>\n",
       "      <td>Paul</td>\n",
       "      <td>2020-01-06</td>\n",
       "      <td>False</td>\n",
       "    </tr>\n",
       "  </tbody>\n",
       "</table>\n",
       "</div>"
      ],
      "text/plain": [
       "           Store  Employees    Manager      Since  Flagship\n",
       "0       New York         10      Sarah 2018-07-20     False\n",
       "1  San Francisco         12     Neriah 2019-11-02     False\n",
       "2        Chicago          4    Katelin 2020-01-31     False\n",
       "3         Boston          5  Georgiana 2017-04-01      True\n",
       "4  Washington DC          3       Evan        NaT     False\n",
       "5      Las Vegas         11       Paul 2020-01-06     False"
      ]
     },
     "execution_count": 9,
     "metadata": {},
     "output_type": "execute_result"
    }
   ],
   "source": [
    "df = pd.read_excel(url,\n",
    "                  sheet_name=\"2019\", skiprows=1, usecols=\"B:F\",\n",
    "                  converters={\"Flagship\": fix_missing})\n",
    "df"
   ]
  },
  {
   "cell_type": "code",
   "execution_count": 10,
   "id": "921a56c2",
   "metadata": {},
   "outputs": [
    {
     "name": "stdout",
     "output_type": "stream",
     "text": [
      "<class 'pandas.core.frame.DataFrame'>\n",
      "RangeIndex: 6 entries, 0 to 5\n",
      "Data columns (total 5 columns):\n",
      " #   Column     Non-Null Count  Dtype         \n",
      "---  ------     --------------  -----         \n",
      " 0   Store      6 non-null      object        \n",
      " 1   Employees  6 non-null      int64         \n",
      " 2   Manager    6 non-null      object        \n",
      " 3   Since      5 non-null      datetime64[ns]\n",
      " 4   Flagship   6 non-null      bool          \n",
      "dtypes: bool(1), datetime64[ns](1), int64(1), object(2)\n",
      "memory usage: 326.0+ bytes\n"
     ]
    }
   ],
   "source": [
    "df.info()"
   ]
  },
  {
   "cell_type": "markdown",
   "id": "c256d7a0",
   "metadata": {},
   "source": [
    "The **read_excel** function also accepts a list of sheet names. To read in all sheets, you would need to provide **sheet_name=None**."
   ]
  },
  {
   "cell_type": "code",
   "execution_count": 11,
   "id": "61c1ac7d",
   "metadata": {},
   "outputs": [
    {
     "data": {
      "text/html": [
       "<div>\n",
       "<style scoped>\n",
       "    .dataframe tbody tr th:only-of-type {\n",
       "        vertical-align: middle;\n",
       "    }\n",
       "\n",
       "    .dataframe tbody tr th {\n",
       "        vertical-align: top;\n",
       "    }\n",
       "\n",
       "    .dataframe thead th {\n",
       "        text-align: right;\n",
       "    }\n",
       "</style>\n",
       "<table border=\"1\" class=\"dataframe\">\n",
       "  <thead>\n",
       "    <tr style=\"text-align: right;\">\n",
       "      <th></th>\n",
       "      <th>Store</th>\n",
       "      <th>Employees</th>\n",
       "    </tr>\n",
       "  </thead>\n",
       "  <tbody>\n",
       "    <tr>\n",
       "      <th>0</th>\n",
       "      <td>New York</td>\n",
       "      <td>10</td>\n",
       "    </tr>\n",
       "    <tr>\n",
       "      <th>1</th>\n",
       "      <td>San Francisco</td>\n",
       "      <td>12</td>\n",
       "    </tr>\n",
       "  </tbody>\n",
       "</table>\n",
       "</div>"
      ],
      "text/plain": [
       "           Store  Employees\n",
       "0       New York         10\n",
       "1  San Francisco         12"
      ]
     },
     "execution_count": 11,
     "metadata": {},
     "output_type": "execute_result"
    }
   ],
   "source": [
    "sheets = pd.read_excel(url,\n",
    "                      sheet_name=[\"2019\", \"2020\"], skiprows=1, usecols=[\"Store\", \"Employees\"])\n",
    "sheets[\"2019\"].head(2)"
   ]
  },
  {
   "cell_type": "markdown",
   "id": "fc8dcfef",
   "metadata": {},
   "source": [
    "If the source file doesn't have column headers, set **header=None** and provide them via **names**. Note that **sheet_name** also accepts sheet indices:"
   ]
  },
  {
   "cell_type": "code",
   "execution_count": 12,
   "id": "ea540dab",
   "metadata": {},
   "outputs": [
    {
     "data": {
      "text/html": [
       "<div>\n",
       "<style scoped>\n",
       "    .dataframe tbody tr th:only-of-type {\n",
       "        vertical-align: middle;\n",
       "    }\n",
       "\n",
       "    .dataframe tbody tr th {\n",
       "        vertical-align: top;\n",
       "    }\n",
       "\n",
       "    .dataframe thead th {\n",
       "        text-align: right;\n",
       "    }\n",
       "</style>\n",
       "<table border=\"1\" class=\"dataframe\">\n",
       "  <thead>\n",
       "    <tr style=\"text-align: right;\">\n",
       "      <th></th>\n",
       "      <th>Branch</th>\n",
       "      <th>Employee_Count</th>\n",
       "      <th>Is_Flagship</th>\n",
       "    </tr>\n",
       "  </thead>\n",
       "  <tbody>\n",
       "    <tr>\n",
       "      <th>0</th>\n",
       "      <td>New York</td>\n",
       "      <td>10</td>\n",
       "      <td>False</td>\n",
       "    </tr>\n",
       "    <tr>\n",
       "      <th>1</th>\n",
       "      <td>San Francisco</td>\n",
       "      <td>12</td>\n",
       "      <td>MISSING</td>\n",
       "    </tr>\n",
       "    <tr>\n",
       "      <th>2</th>\n",
       "      <td>Chicago</td>\n",
       "      <td>4</td>\n",
       "      <td>NaN</td>\n",
       "    </tr>\n",
       "  </tbody>\n",
       "</table>\n",
       "</div>"
      ],
      "text/plain": [
       "          Branch  Employee_Count Is_Flagship\n",
       "0       New York              10       False\n",
       "1  San Francisco              12     MISSING\n",
       "2        Chicago               4         NaN"
      ]
     },
     "execution_count": 12,
     "metadata": {},
     "output_type": "execute_result"
    }
   ],
   "source": [
    "df = pd.read_excel(url,\n",
    "                    sheet_name=0, skiprows=2, skipfooter=3,\n",
    "                    usecols=\"B:C,F\", header=None,\n",
    "                    names=[\"Branch\", \"Employee_Count\", \"Is_Flagship\"])\n",
    "df"
   ]
  },
  {
   "cell_type": "markdown",
   "id": "479e74ea",
   "metadata": {},
   "source": [
    "To handle NaN values, use a combination of **na_values** and **keep_default_na**."
   ]
  },
  {
   "cell_type": "code",
   "execution_count": 13,
   "id": "d25c20b6",
   "metadata": {},
   "outputs": [
    {
     "data": {
      "text/html": [
       "<div>\n",
       "<style scoped>\n",
       "    .dataframe tbody tr th:only-of-type {\n",
       "        vertical-align: middle;\n",
       "    }\n",
       "\n",
       "    .dataframe tbody tr th {\n",
       "        vertical-align: top;\n",
       "    }\n",
       "\n",
       "    .dataframe thead th {\n",
       "        text-align: right;\n",
       "    }\n",
       "</style>\n",
       "<table border=\"1\" class=\"dataframe\">\n",
       "  <thead>\n",
       "    <tr style=\"text-align: right;\">\n",
       "      <th></th>\n",
       "      <th>1</th>\n",
       "      <th>2</th>\n",
       "      <th>5</th>\n",
       "    </tr>\n",
       "  </thead>\n",
       "  <tbody>\n",
       "    <tr>\n",
       "      <th>0</th>\n",
       "      <td>Store</td>\n",
       "      <td>Employees</td>\n",
       "      <td>Flagship</td>\n",
       "    </tr>\n",
       "    <tr>\n",
       "      <th>1</th>\n",
       "      <td>New York</td>\n",
       "      <td>10</td>\n",
       "      <td>False</td>\n",
       "    </tr>\n",
       "    <tr>\n",
       "      <th>2</th>\n",
       "      <td>San Francisco</td>\n",
       "      <td>12</td>\n",
       "      <td>NaN</td>\n",
       "    </tr>\n",
       "    <tr>\n",
       "      <th>3</th>\n",
       "      <td>Chicago</td>\n",
       "      <td>4</td>\n",
       "      <td></td>\n",
       "    </tr>\n",
       "    <tr>\n",
       "      <th>4</th>\n",
       "      <td>Boston</td>\n",
       "      <td>5</td>\n",
       "      <td>True</td>\n",
       "    </tr>\n",
       "  </tbody>\n",
       "</table>\n",
       "</div>"
      ],
      "text/plain": [
       "               1          2         5\n",
       "0          Store  Employees  Flagship\n",
       "1       New York         10     False\n",
       "2  San Francisco         12       NaN\n",
       "3        Chicago          4          \n",
       "4         Boston          5      True"
      ]
     },
     "execution_count": 13,
     "metadata": {},
     "output_type": "execute_result"
    }
   ],
   "source": [
    "df = pd.read_excel(url,\n",
    "                    sheet_name=\"2019\", skiprows=1, skipfooter=2,\n",
    "                    usecols=\"B,C,F\", header=None,\n",
    "                    na_values=\"MISSING\", keep_default_na=False)\n",
    "df"
   ]
  },
  {
   "cell_type": "markdown",
   "id": "c96203c2",
   "metadata": {},
   "source": [
    "**ExcelFile** class mostly makes a difference if you want to read in multiple sheets from a file in the legacy *xls* format. It prevents pandas from reading in the whole file multiple times."
   ]
  },
  {
   "cell_type": "code",
   "execution_count": 14,
   "id": "17a7057c",
   "metadata": {},
   "outputs": [
    {
     "data": {
      "text/html": [
       "<div>\n",
       "<style scoped>\n",
       "    .dataframe tbody tr th:only-of-type {\n",
       "        vertical-align: middle;\n",
       "    }\n",
       "\n",
       "    .dataframe tbody tr th {\n",
       "        vertical-align: top;\n",
       "    }\n",
       "\n",
       "    .dataframe thead th {\n",
       "        text-align: right;\n",
       "    }\n",
       "</style>\n",
       "<table border=\"1\" class=\"dataframe\">\n",
       "  <thead>\n",
       "    <tr style=\"text-align: right;\">\n",
       "      <th></th>\n",
       "      <th>Store</th>\n",
       "      <th>Employees</th>\n",
       "      <th>Manager</th>\n",
       "      <th>Since</th>\n",
       "      <th>Flagship</th>\n",
       "    </tr>\n",
       "  </thead>\n",
       "  <tbody>\n",
       "    <tr>\n",
       "      <th>0</th>\n",
       "      <td>New York</td>\n",
       "      <td>10</td>\n",
       "      <td>Sarah</td>\n",
       "      <td>2018-07-20</td>\n",
       "      <td>False</td>\n",
       "    </tr>\n",
       "    <tr>\n",
       "      <th>1</th>\n",
       "      <td>San Francisco</td>\n",
       "      <td>12</td>\n",
       "      <td>Neriah</td>\n",
       "      <td>2019-11-02</td>\n",
       "      <td>MISSING</td>\n",
       "    </tr>\n",
       "  </tbody>\n",
       "</table>\n",
       "</div>"
      ],
      "text/plain": [
       "           Store  Employees Manager      Since Flagship\n",
       "0       New York         10   Sarah 2018-07-20    False\n",
       "1  San Francisco         12  Neriah 2019-11-02  MISSING"
      ]
     },
     "execution_count": 14,
     "metadata": {},
     "output_type": "execute_result"
    }
   ],
   "source": [
    "with pd.ExcelFile(\"https://raw.githubusercontent.com/fzumstein/\"\n",
    "\"python-for-excel/1st-edition/xl/stores.xls\") as f:\n",
    "    df1 = pd.read_excel(f, \"2019\", skiprows=1, usecols=\"B:F\", nrows=2)\n",
    "    df2 = pd.read_excel(f, \"2020\", skiprows=1, usecols=\"B:F\", nrows=2)\n",
    "df1"
   ]
  },
  {
   "cell_type": "markdown",
   "id": "d0c025a4",
   "metadata": {},
   "source": [
    "**ExcelFile** also gives you access to the names of all sheets:"
   ]
  },
  {
   "cell_type": "code",
   "execution_count": 15,
   "id": "d764d6e6",
   "metadata": {},
   "outputs": [
    {
     "data": {
      "text/plain": [
       "['2019', '2020', '2019-2020']"
      ]
     },
     "execution_count": 15,
     "metadata": {},
     "output_type": "execute_result"
    }
   ],
   "source": [
    "stores = pd.ExcelFile(url)\n",
    "stores.sheet_names"
   ]
  },
  {
   "cell_type": "markdown",
   "id": "bc0c6d0a",
   "metadata": {},
   "source": [
    "## The to_excel Method and ExcelWriter Class "
   ]
  },
  {
   "cell_type": "code",
   "execution_count": 16,
   "id": "9d9f85f6",
   "metadata": {},
   "outputs": [],
   "source": [
    "import numpy as np\n",
    "import datetime as dt"
   ]
  },
  {
   "cell_type": "code",
   "execution_count": 17,
   "id": "b64b1d7e",
   "metadata": {},
   "outputs": [
    {
     "data": {
      "text/html": [
       "<div>\n",
       "<style scoped>\n",
       "    .dataframe tbody tr th:only-of-type {\n",
       "        vertical-align: middle;\n",
       "    }\n",
       "\n",
       "    .dataframe tbody tr th {\n",
       "        vertical-align: top;\n",
       "    }\n",
       "\n",
       "    .dataframe thead th {\n",
       "        text-align: right;\n",
       "    }\n",
       "</style>\n",
       "<table border=\"1\" class=\"dataframe\">\n",
       "  <thead>\n",
       "    <tr style=\"text-align: right;\">\n",
       "      <th></th>\n",
       "      <th>Dates</th>\n",
       "      <th>Floats</th>\n",
       "      <th>Integers</th>\n",
       "      <th>Booleans</th>\n",
       "    </tr>\n",
       "    <tr>\n",
       "      <th>index</th>\n",
       "      <th></th>\n",
       "      <th></th>\n",
       "      <th></th>\n",
       "      <th></th>\n",
       "    </tr>\n",
       "  </thead>\n",
       "  <tbody>\n",
       "    <tr>\n",
       "      <th>0</th>\n",
       "      <td>2020-01-01 10:13:00</td>\n",
       "      <td>2.222</td>\n",
       "      <td>1</td>\n",
       "      <td>True</td>\n",
       "    </tr>\n",
       "    <tr>\n",
       "      <th>1</th>\n",
       "      <td>2020-01-02 00:00:00</td>\n",
       "      <td>NaN</td>\n",
       "      <td>2</td>\n",
       "      <td>False</td>\n",
       "    </tr>\n",
       "    <tr>\n",
       "      <th>2</th>\n",
       "      <td>2020-01-02 00:00:00</td>\n",
       "      <td>inf</td>\n",
       "      <td>3</td>\n",
       "      <td>True</td>\n",
       "    </tr>\n",
       "  </tbody>\n",
       "</table>\n",
       "</div>"
      ],
      "text/plain": [
       "                    Dates  Floats  Integers  Booleans\n",
       "index                                                \n",
       "0     2020-01-01 10:13:00   2.222         1      True\n",
       "1     2020-01-02 00:00:00     NaN         2     False\n",
       "2     2020-01-02 00:00:00     inf         3      True"
      ]
     },
     "execution_count": 17,
     "metadata": {},
     "output_type": "execute_result"
    }
   ],
   "source": [
    "data=[[dt.datetime(2020,1,1, 10, 13), 2.222, 1, True],\n",
    "                   [dt.datetime(2020,1,2), np.nan, 2, False],\n",
    "                   [dt.datetime(2020,1,2), np.inf, 3, True]]\n",
    "df = pd.DataFrame(data=data,\n",
    "                 columns=[\"Dates\", \"Floats\", \"Integers\", \"Booleans\"])\n",
    "df.index.name = \"index\"\n",
    "df"
   ]
  },
  {
   "cell_type": "code",
   "execution_count": 18,
   "id": "3b268b21",
   "metadata": {},
   "outputs": [],
   "source": [
    "df.to_excel(\"written_with_pandas.xlsx\", sheet_name=\"Output\", startrow=1, startcol=1, \n",
    "            index=True, header=True, na_rep=\"<NA>\", inf_rep=\"<INF>\")"
   ]
  },
  {
   "cell_type": "markdown",
   "id": "88c24c80",
   "metadata": {},
   "source": [
    "To write multiple DataFrames to the same or different sheets, you will need to use the **ExcelWriter** class."
   ]
  },
  {
   "cell_type": "code",
   "execution_count": 19,
   "id": "0a751bdc",
   "metadata": {},
   "outputs": [],
   "source": [
    "with pd.ExcelWriter(\"written_with_pandas2.xlsx\") as writer: \n",
    "    df.to_excel(writer, sheet_name=\"Sheet1\", startrow=1, startcol=1) \n",
    "    df.to_excel(writer, sheet_name=\"Sheet1\", startrow=10, startcol=1) \n",
    "    df.to_excel(writer, sheet_name=\"Sheet2\")"
   ]
  }
 ],
 "metadata": {
  "kernelspec": {
   "display_name": "Python 3 (ipykernel)",
   "language": "python",
   "name": "python3"
  },
  "language_info": {
   "codemirror_mode": {
    "name": "ipython",
    "version": 3
   },
   "file_extension": ".py",
   "mimetype": "text/x-python",
   "name": "python",
   "nbconvert_exporter": "python",
   "pygments_lexer": "ipython3",
   "version": "3.8.13"
  }
 },
 "nbformat": 4,
 "nbformat_minor": 5
}
