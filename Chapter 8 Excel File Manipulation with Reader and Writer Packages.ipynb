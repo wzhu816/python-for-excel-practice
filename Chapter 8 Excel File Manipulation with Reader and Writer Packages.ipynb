{
 "cells": [
  {
   "cell_type": "markdown",
   "id": "f535113f",
   "metadata": {},
   "source": [
    "# Excel File Manipulation with Reader and Writer Packages"
   ]
  },
  {
   "cell_type": "markdown",
   "id": "719a1112",
   "metadata": {},
   "source": [
    "## The Reader and Writer Packages "
   ]
  },
  {
   "cell_type": "markdown",
   "id": "5af24fa0",
   "metadata": {},
   "source": [
    "Almost every Excel file type requires a different package."
   ]
  },
  {
   "cell_type": "markdown",
   "id": "1b48ffb3",
   "metadata": {},
   "source": [
    "## When to Use Which Package "
   ]
  },
  {
   "cell_type": "markdown",
   "id": "e4ace448",
   "metadata": {},
   "source": [
    "When to use which package for different excel file format (Read/Write/Edit):\n",
    "+ xlsx (OpenPyXL / OpenPyXL, XlsxWriter / OpenPyXL)\n",
    "+ xlsm (OpenPyXL / OpenPyXL, XlsxWriter / OpenPyXL)\n",
    "+ xltx,xltm (OpenPyXL / OpenPyXL / OpenPyXL)\n",
    "+ xlsb (pyxlsb / - / -)\n",
    "+ xls,xlt (xlrd / xlwt / xlutils)"
   ]
  },
  {
   "cell_type": "markdown",
   "id": "11c393e9",
   "metadata": {},
   "source": [
    "High-level overview of where they differ:\n",
    "+ OpenPyXL can read, write, and edit while XlsxWriter can only write.\n",
    "+ OpenPyXL makes it easier to produce Excel files with VBA macros.\n",
    "+ XlsxWriter is better documented.\n",
    "+ XlsxWriter tends to be faster than OpenPyXL, but depending on the size of the workbook you’re writing, the differences may not be significant."
   ]
  },
  {
   "cell_type": "markdown",
   "id": "efaa9dca",
   "metadata": {},
   "source": [
    "pandas uses the writer package it can find and if you have both OpenPyXL and XlsxWriter installed, XlsxWriter is the default. If you want to choose which package pandas should use, specify the engine parameter in the read_excel or to_excel functions or the ExcelFile and ExcelWriter classes, respectively. The engine is the package name in lower case."
   ]
  },
  {
   "cell_type": "markdown",
   "id": "1203ed6b",
   "metadata": {},
   "source": [
    "## OpenPyXL "
   ]
  },
  {
   "cell_type": "markdown",
   "id": "00db81a8",
   "metadata": {},
   "source": [
    "### Reading with OpenPyXL"
   ]
  },
  {
   "cell_type": "code",
   "execution_count": 4,
   "id": "2c93586e",
   "metadata": {},
   "outputs": [],
   "source": [
    "import pandas as pd\n",
    "import openpyxl\n",
    "import datetime as dt"
   ]
  },
  {
   "cell_type": "code",
   "execution_count": 68,
   "id": "d4e13362",
   "metadata": {},
   "outputs": [],
   "source": [
    "filepath = originalpath + \"xl/stores.xlsx\""
   ]
  },
  {
   "cell_type": "code",
   "execution_count": 69,
   "id": "f3857aeb",
   "metadata": {},
   "outputs": [],
   "source": [
    "# Open the workbook to read cell values.\n",
    "# The file is automatically closed again after loading the data.\n",
    "book = openpyxl.load_workbook(filepath, data_only=True)"
   ]
  },
  {
   "cell_type": "code",
   "execution_count": 9,
   "id": "aa0b9a6a",
   "metadata": {},
   "outputs": [],
   "source": [
    "# Get a worksheet object by name or index (0-based)\n",
    "sheet = book[\"2019\"]\n",
    "sheet = book.worksheets[0]"
   ]
  },
  {
   "cell_type": "code",
   "execution_count": 11,
   "id": "7fa4e93d",
   "metadata": {},
   "outputs": [
    {
     "data": {
      "text/plain": [
       "['2019', '2020', '2019-2020']"
      ]
     },
     "execution_count": 11,
     "metadata": {},
     "output_type": "execute_result"
    }
   ],
   "source": [
    "# Get a list with all sheet names\n",
    "book.sheetnames"
   ]
  },
  {
   "cell_type": "code",
   "execution_count": 12,
   "id": "f93aad93",
   "metadata": {},
   "outputs": [
    {
     "name": "stdout",
     "output_type": "stream",
     "text": [
      "2019\n",
      "2020\n",
      "2019-2020\n"
     ]
    }
   ],
   "source": [
    "# Loop through the sheet objects.\n",
    "# Instead of \"name\", openpyxl uses \"title\".\n",
    "for i in book.worksheets:\n",
    "    print(i.title)"
   ]
  },
  {
   "cell_type": "code",
   "execution_count": 13,
   "id": "762a60cc",
   "metadata": {},
   "outputs": [
    {
     "data": {
      "text/plain": [
       "(8, 6)"
      ]
     },
     "execution_count": 13,
     "metadata": {},
     "output_type": "execute_result"
    }
   ],
   "source": [
    "# Getting the dimensions,\n",
    "# i.e., the used range of the sheet\n",
    "sheet.max_row, sheet.max_column"
   ]
  },
  {
   "cell_type": "code",
   "execution_count": 14,
   "id": "2956275f",
   "metadata": {},
   "outputs": [
    {
     "data": {
      "text/plain": [
       "'Boston'"
      ]
     },
     "execution_count": 14,
     "metadata": {},
     "output_type": "execute_result"
    }
   ],
   "source": [
    "# Read the value of a single cell\n",
    "# using \"A1\" notation and using cell indices (1-based)\n",
    "sheet[\"B6\"].value\n",
    "sheet.cell(row=6, column=2).value"
   ]
  },
  {
   "cell_type": "markdown",
   "id": "413fc440",
   "metadata": {},
   "source": [
    "### Writing with OpenPyXL "
   ]
  },
  {
   "cell_type": "code",
   "execution_count": 31,
   "id": "552b0caa",
   "metadata": {},
   "outputs": [],
   "source": [
    "import openpyxl\n",
    "from openpyxl.drawing.image import Image\n",
    "from openpyxl.chart import BarChart, Reference\n",
    "from openpyxl.styles import Font, colors\n",
    "from openpyxl.styles.borders import Border, Side\n",
    "from openpyxl.styles.alignment import Alignment\n",
    "from openpyxl.styles.fills import PatternFill\n",
    "import excel"
   ]
  },
  {
   "cell_type": "code",
   "execution_count": 33,
   "id": "3256b9f0",
   "metadata": {},
   "outputs": [],
   "source": [
    "# Instantiate a workbook\n",
    "book = openpyxl.Workbook()\n",
    "\n",
    "# Get the first sheet and give it a name\n",
    "sheet = book.active\n",
    "sheet.title = \"Sheet1\"\n",
    "\n",
    "# Writing individual cells using A1 notation\n",
    "# and cell indices (1-based)\n",
    "sheet[\"A1\"].value = \"Hello 1\"\n",
    "sheet.cell(row=2, column=1, value=\"Hello 2\")\n",
    "\n",
    "# Formatting: fill color, alignment, border and font\n",
    "font_format = Font(color=\"FF0000\", bold=True)\n",
    "thin = Side(border_style=\"thin\", color=\"FF0000\")\n",
    "sheet[\"A3\"].value = \"Hello3\"\n",
    "sheet[\"A3\"].font = font_format\n",
    "sheet[\"A3\"].border = Border(top=thin, left=thin, right=thin, bottom=thin)\n",
    "sheet[\"A3\"].alignment = Alignment(horizontal=\"center\")\n",
    "sheet[\"A3\"].fill = PatternFill(fgColor=\"FFFF00\", fill_type=\"solid\")\n",
    "\n",
    "# Number formatting (using Excel's formatting strings)\n",
    "sheet[\"A4\"].value = 3.3333\n",
    "sheet[\"A4\"].number_format = \"0.00\"\n",
    "\n",
    "# Date formatting (using Excel's formatting strings)\n",
    "sheet[\"A5\"].value = dt.date(2016, 10, 13)\n",
    "sheet[\"A5\"].number_format = \"mm/dd/yy\"\n",
    "\n",
    "# Formula: you must use the English name of the formula\n",
    "# with commas as delimiters\n",
    "sheet[\"A6\"].value = \"=SUM(A4, 2)\"\n",
    "\n",
    "# Image\n",
    "# image_path = r\"/Users/wenjiazhu/Documents/Training/Data Analysis/python-for-excel/python-for-excel-1st-edition/images/python.png\"\n",
    "# sheet.add_image(Image(image_path), \"C1\")\n",
    "\n",
    "# Two-dimensional list (we're using our excel module)\n",
    "# data = [[None, \"North\", \"South\"],\n",
    "#         [\"Last Year\", 2, 5],\n",
    "#         [\"This Year\", 3, 6]]\n",
    "# excel.write(sheet, data, \"A10\")\n",
    "\n",
    "# Chart\n",
    "chart = BarChart()\n",
    "chart.type = \"col\"\n",
    "chart.title = \"Sales Per Region\"\n",
    "chart.x_axis.title = \"Regions\"\n",
    "chart.y_axis.title = \"Sales\"\n",
    "chart_data = Reference(sheet, min_row=11, min_col=1,\n",
    "                        max_row=12, max_col=3)\n",
    "chart_categories = Reference(sheet, min_row=10, min_col=2,\n",
    "                        max_row=10, max_col=3)\n",
    "# from_rows interprets the data in the same way\n",
    "# as if you would add a chart manually in Excel\n",
    "chart.add_data(chart_data, titles_from_data=True, from_rows=True)\n",
    "chart.set_categories(chart_categories)\n",
    "sheet.add_chart(chart, \"A15\")\n",
    "\n",
    "# Saving the workbook creates the file on disk\n",
    "book.save(\"openpyxl.xlsx\")"
   ]
  },
  {
   "cell_type": "markdown",
   "id": "a4dfb746",
   "metadata": {},
   "source": [
    "If you want to write an Excel tempalte file, set the template attribute to True before saving it."
   ]
  },
  {
   "cell_type": "code",
   "execution_count": 34,
   "id": "e166036c",
   "metadata": {},
   "outputs": [],
   "source": [
    "book = openpyxl.Workbook()\n",
    "sheet = book.active\n",
    "sheet[\"A1\"].value = \"This is a template\"\n",
    "book.template = True\n",
    "book.save(\"template.xltx\")"
   ]
  },
  {
   "cell_type": "markdown",
   "id": "aec34325",
   "metadata": {},
   "source": [
    "### Editing with OpenPyXL"
   ]
  },
  {
   "cell_type": "code",
   "execution_count": 35,
   "id": "9ee4c967",
   "metadata": {},
   "outputs": [],
   "source": [
    "filepath = orginalpath + \"xl/stores.xlsx\""
   ]
  },
  {
   "cell_type": "code",
   "execution_count": 36,
   "id": "fee9ea88",
   "metadata": {},
   "outputs": [],
   "source": [
    "# Read the stores.xlsx file, change a cell\n",
    "# and store it under a new location/name.\n",
    "book = openpyxl.load_workbook(filepath)\n",
    "book[\"2019\"][\"A1\"].value = \"modified\"\n",
    "book.save(\"stores_edited.xlsx\")"
   ]
  },
  {
   "cell_type": "code",
   "execution_count": 37,
   "id": "51be0b88",
   "metadata": {},
   "outputs": [],
   "source": [
    "filepath = originalpath + \"xl/macro.xlsm\""
   ]
  },
  {
   "cell_type": "code",
   "execution_count": 38,
   "id": "88f3a05b",
   "metadata": {},
   "outputs": [],
   "source": [
    "book = openpyxl.load_workbook(filepath, keep_vba=True)\n",
    "book[\"Sheet1\"][\"A1\"].value = \"Click the button!\"\n",
    "book.save(\"macro_openpyxl.xlsm\")"
   ]
  },
  {
   "cell_type": "markdown",
   "id": "d78b02ed",
   "metadata": {},
   "source": [
    "## XlsxWriter "
   ]
  },
  {
   "cell_type": "markdown",
   "id": "f2536bf8",
   "metadata": {},
   "source": [
    "As the name suggests, XlsxWriter can only write Excel files. Note that XlsxWriter uses zero-based cell indices, while Open‐ PyXL uses one-based cell indices."
   ]
  },
  {
   "cell_type": "code",
   "execution_count": 40,
   "id": "ca73e0fe",
   "metadata": {},
   "outputs": [],
   "source": [
    "import datetime as dt\n",
    "import xlsxwriter\n",
    "import excel"
   ]
  },
  {
   "cell_type": "code",
   "execution_count": 42,
   "id": "91f606ec",
   "metadata": {},
   "outputs": [],
   "source": [
    "# Instantiate a workbook\n",
    "book = xlsxwriter.Workbook(\"xlsxwriter.xlsx\")\n",
    "\n",
    "# Add a sheet and give it a name\n",
    "sheet = book.add_worksheet(\"Sheet1\")\n",
    "\n",
    "# Writing individual cells using A1 notation\n",
    "# and cell indices (0-based)\n",
    "sheet.write(\"A1\", \"Hello 1\")\n",
    "sheet.write(1, 0, \"Hello 2\")\n",
    "\n",
    "# Formatting: fill color, alignment, border and font\n",
    "formatting = book.add_format({\"font_color\": \"#FF0000\",\n",
    "                              \"bg_color\": \"#FFFF00\",\n",
    "                              \"bold\": True, \"align\": \"center\",\n",
    "                              \"border\": 1, \"border_color\": \"#FF0000\"})\n",
    "sheet.write(\"A3\", \"Hello 3\", formatting)\n",
    "\n",
    "# Number formatting (using Excel's formatting strings)\n",
    "number_format = book.add_format({\"num_format\": \"0.00\"})\n",
    "sheet.write(\"A4\", 3.3333, number_format)\n",
    "\n",
    "# Date formatting (using Excel's formatting strings)\n",
    "date_format = book.add_format({\"num_format\": \"mm/dd/yy\"})\n",
    "sheet.write(\"A5\", dt.date(2016, 10, 13), date_format)\n",
    "\n",
    "# Formula: you must use the English name of the formula # with commas as delimiters\n",
    "sheet.write(\"A6\", \"=SUM(A4, 2)\")\n",
    "\n",
    "\n",
    "# Image\n",
    "image_path = originalpath + \"images/python.png\"\n",
    "sheet.insert_image(0, 2, image_path)\n",
    "\n",
    "# Two-dimensional list (we're using our excel module)\n",
    "data = [[None, \"North\", \"South\"],\n",
    "        [\"Last Year\", 2, 5],\n",
    "        [\"This Year\", 3, 6]]\n",
    "# excel.write(sheet, data, \"A10\")\n",
    "\n",
    "# Chart: see the file \"sales_report_xlsxwriter.py\" in the # companion repo to see how you can work with indices\n",
    "# instead of cell addresses\n",
    "chart = book.add_chart({\"type\": \"column\"}) \n",
    "chart.set_title({\"name\": \"Sales per Region\"}) \n",
    "chart.add_series({\"name\": \"=Sheet1!A11\",\n",
    "                  \"categories\": \"=Sheet1!B10:C10\",\n",
    "                  \"values\": \"=Sheet1!B11:C11\"})\n",
    "chart.add_series({\"name\": \"=Sheet1!A12\",\n",
    "                  \"categories\": \"=Sheet1!B10:C10\",\n",
    "                  \"values\": \"=Sheet1!B12:C12\"})\n",
    "chart.set_x_axis({\"name\": \"Regions\"})\n",
    "chart.set_y_axis({\"name\": \"Sales\"})\n",
    "sheet.insert_chart(\"A15\", chart)\n",
    "\n",
    "# Closing the workbook creates the file on disk\n",
    "book.close()"
   ]
  },
  {
   "cell_type": "markdown",
   "id": "a47b5422",
   "metadata": {},
   "source": [
    "In comparison to OpenPyXL, XlsxWriter has to take a more complicated approach to write *xlsm* files - you need to extract the macro code from an existing Excel file to create a *.bin* file. Skip for now..."
   ]
  },
  {
   "cell_type": "markdown",
   "id": "0faf055e",
   "metadata": {},
   "source": [
    "## pyxlsb "
   ]
  },
  {
   "cell_type": "code",
   "execution_count": 43,
   "id": "e713c339",
   "metadata": {},
   "outputs": [],
   "source": [
    "import pyxlsb\n",
    "import excel"
   ]
  },
  {
   "cell_type": "code",
   "execution_count": 44,
   "id": "a5ba4e4b",
   "metadata": {},
   "outputs": [],
   "source": [
    "filepath = originalpath + \"xl/stores.xlsb\""
   ]
  },
  {
   "cell_type": "code",
   "execution_count": 45,
   "id": "589aa8bb",
   "metadata": {},
   "outputs": [
    {
     "name": "stdout",
     "output_type": "stream",
     "text": [
      "Sheet '2019' has 7 rows and 5 cols\n",
      "Sheet '2020' has 7 rows and 5 cols\n",
      "Sheet '2019-2020' has 20 rows and 5 cols\n"
     ]
    }
   ],
   "source": [
    "# Loop through sheets. With pyxlsb, the workbook\n",
    "# and sheet objects can be used as context managers.\n",
    "# book.sheets returns a list of sheet names, not objects! \n",
    "# To get a sheet object, use get_sheet() instead.\n",
    "with pyxlsb.open_workbook(filepath) as book:\n",
    "    for sheet_name in book.sheets:\n",
    "        with book.get_sheet(sheet_name) as sheet:\n",
    "            dim = sheet.dimension \n",
    "            print(f\"Sheet '{sheet_name}' has \"\n",
    "                  f\"{dim.h} rows and {dim.w} cols\")"
   ]
  },
  {
   "cell_type": "code",
   "execution_count": 49,
   "id": "be233abc",
   "metadata": {},
   "outputs": [
    {
     "name": "stdout",
     "output_type": "stream",
     "text": [
      "[Cell(r=0, c=0, v=None), Cell(r=0, c=1, v=None), Cell(r=0, c=2, v=None), Cell(r=0, c=3, v=None), Cell(r=0, c=4, v=None), Cell(r=0, c=5, v=None)]\n",
      "[Cell(r=1, c=0, v=None), Cell(r=1, c=1, v='Store'), Cell(r=1, c=2, v='Employees'), Cell(r=1, c=3, v='Manager'), Cell(r=1, c=4, v='Since'), Cell(r=1, c=5, v='Flagship')]\n",
      "[Cell(r=2, c=0, v=None), Cell(r=2, c=1, v='New York'), Cell(r=2, c=2, v=10.0), Cell(r=2, c=3, v='Sarah'), Cell(r=2, c=4, v=43301.0), Cell(r=2, c=5, v=False)]\n",
      "[Cell(r=3, c=0, v=None), Cell(r=3, c=1, v='San Francisco'), Cell(r=3, c=2, v=12.0), Cell(r=3, c=3, v='Neriah'), Cell(r=3, c=4, v=43771.0), Cell(r=3, c=5, v='MISSING')]\n",
      "[Cell(r=4, c=0, v=None), Cell(r=4, c=1, v='Chicago'), Cell(r=4, c=2, v=4.0), Cell(r=4, c=3, v='Katelin'), Cell(r=4, c=4, v=43861.0), Cell(r=4, c=5, v=None)]\n",
      "[Cell(r=5, c=0, v=None), Cell(r=5, c=1, v='Boston'), Cell(r=5, c=2, v=5.0), Cell(r=5, c=3, v='Georgiana'), Cell(r=5, c=4, v=42826.0), Cell(r=5, c=5, v=True)]\n",
      "[Cell(r=6, c=0, v=None), Cell(r=6, c=1, v='Washington DC'), Cell(r=6, c=2, v=3.0), Cell(r=6, c=3, v='Evan'), Cell(r=6, c=4, v=None), Cell(r=6, c=5, v=False)]\n",
      "[Cell(r=7, c=0, v=None), Cell(r=7, c=1, v='Las Vegas'), Cell(r=7, c=2, v=11.0), Cell(r=7, c=3, v='Paul'), Cell(r=7, c=4, v=43836.0), Cell(r=7, c=5, v=False)]\n"
     ]
    }
   ],
   "source": [
    "# Read in the values of a range of cells by using our excel module. \n",
    "# Instead of \"2019\", you could also use its index (1-based).\n",
    "with pyxlsb.open_workbook(filepath) as book:\n",
    "    with book.get_sheet(\"2019\") as sheet: \n",
    "#         data = excel.read(sheet, \"B2\")\n",
    "# data[:2] \n",
    "# Print the first two rows\n",
    "        for row in sheet.rows():\n",
    "            print(row)"
   ]
  },
  {
   "cell_type": "code",
   "execution_count": 50,
   "id": "91dd3f6c",
   "metadata": {},
   "outputs": [
    {
     "data": {
      "text/html": [
       "<div>\n",
       "<style scoped>\n",
       "    .dataframe tbody tr th:only-of-type {\n",
       "        vertical-align: middle;\n",
       "    }\n",
       "\n",
       "    .dataframe tbody tr th {\n",
       "        vertical-align: top;\n",
       "    }\n",
       "\n",
       "    .dataframe thead th {\n",
       "        text-align: right;\n",
       "    }\n",
       "</style>\n",
       "<table border=\"1\" class=\"dataframe\">\n",
       "  <thead>\n",
       "    <tr style=\"text-align: right;\">\n",
       "      <th></th>\n",
       "      <th>Unnamed: 0</th>\n",
       "      <th>Unnamed: 1</th>\n",
       "      <th>Unnamed: 2</th>\n",
       "      <th>Unnamed: 3</th>\n",
       "      <th>Unnamed: 4</th>\n",
       "      <th>Unnamed: 5</th>\n",
       "    </tr>\n",
       "  </thead>\n",
       "  <tbody>\n",
       "    <tr>\n",
       "      <th>0</th>\n",
       "      <td>NaN</td>\n",
       "      <td>Store</td>\n",
       "      <td>Employees</td>\n",
       "      <td>Manager</td>\n",
       "      <td>Since</td>\n",
       "      <td>Flagship</td>\n",
       "    </tr>\n",
       "    <tr>\n",
       "      <th>1</th>\n",
       "      <td>NaN</td>\n",
       "      <td>New York</td>\n",
       "      <td>10</td>\n",
       "      <td>Sarah</td>\n",
       "      <td>43301</td>\n",
       "      <td>False</td>\n",
       "    </tr>\n",
       "    <tr>\n",
       "      <th>2</th>\n",
       "      <td>NaN</td>\n",
       "      <td>San Francisco</td>\n",
       "      <td>12</td>\n",
       "      <td>Neriah</td>\n",
       "      <td>43771</td>\n",
       "      <td>MISSING</td>\n",
       "    </tr>\n",
       "    <tr>\n",
       "      <th>3</th>\n",
       "      <td>NaN</td>\n",
       "      <td>Chicago</td>\n",
       "      <td>4</td>\n",
       "      <td>Katelin</td>\n",
       "      <td>43861</td>\n",
       "      <td>NaN</td>\n",
       "    </tr>\n",
       "    <tr>\n",
       "      <th>4</th>\n",
       "      <td>NaN</td>\n",
       "      <td>Boston</td>\n",
       "      <td>5</td>\n",
       "      <td>Georgiana</td>\n",
       "      <td>42826</td>\n",
       "      <td>True</td>\n",
       "    </tr>\n",
       "  </tbody>\n",
       "</table>\n",
       "</div>"
      ],
      "text/plain": [
       "   Unnamed: 0     Unnamed: 1 Unnamed: 2 Unnamed: 3 Unnamed: 4 Unnamed: 5\n",
       "0         NaN          Store  Employees    Manager      Since   Flagship\n",
       "1         NaN       New York         10      Sarah      43301      False\n",
       "2         NaN  San Francisco         12     Neriah      43771    MISSING\n",
       "3         NaN        Chicago          4    Katelin      43861        NaN\n",
       "4         NaN         Boston          5  Georgiana      42826       True"
      ]
     },
     "execution_count": 50,
     "metadata": {},
     "output_type": "execute_result"
    }
   ],
   "source": [
    "df = pd.read_excel(filepath)\n",
    "df.head(5)"
   ]
  },
  {
   "cell_type": "markdown",
   "id": "d581cb9b",
   "metadata": {},
   "source": [
    "## xlrd, xlwt, and xlutils"
   ]
  },
  {
   "cell_type": "markdown",
   "id": "20759bac",
   "metadata": {},
   "source": [
    "The combination of xlrd, xlwt, and xlutils offers roughly the same functionality for the legacy xls format that OpenPyXL offers for the xlsx format: \n",
    "+ xlrd reads, \n",
    "+ xlwt writes, and \n",
    "+ xlutils edits xls files. \n",
    "\n",
    "These packages aren’t actively developed anymore, but they are likely going to be relevant as long as there are still xls files around. "
   ]
  },
  {
   "cell_type": "markdown",
   "id": "588357fc",
   "metadata": {},
   "source": [
    "### Reading with xlrd"
   ]
  },
  {
   "cell_type": "code",
   "execution_count": 52,
   "id": "538401fe",
   "metadata": {},
   "outputs": [],
   "source": [
    "import xlrd \n",
    "import xlwt\n",
    "from xlwt.Utils import cell_to_rowcol2 \n",
    "import xlutils"
   ]
  },
  {
   "cell_type": "code",
   "execution_count": 53,
   "id": "06648c17",
   "metadata": {},
   "outputs": [],
   "source": [
    "filepath = originalpath + \"xl/stores.xls\""
   ]
  },
  {
   "cell_type": "code",
   "execution_count": 55,
   "id": "f89f5ef0",
   "metadata": {},
   "outputs": [],
   "source": [
    "# Open the workbook to read cell values. The file is \n",
    "# automatically closed again after loading the data.\n",
    "book = xlrd.open_workbook(filepath)"
   ]
  },
  {
   "cell_type": "code",
   "execution_count": 56,
   "id": "8d003a28",
   "metadata": {},
   "outputs": [
    {
     "data": {
      "text/plain": [
       "['2019', '2020', '2019-2020']"
      ]
     },
     "execution_count": 56,
     "metadata": {},
     "output_type": "execute_result"
    }
   ],
   "source": [
    "# Get a list with all sheet names \n",
    "book.sheet_names()"
   ]
  },
  {
   "cell_type": "code",
   "execution_count": 57,
   "id": "8a15592f",
   "metadata": {},
   "outputs": [
    {
     "name": "stdout",
     "output_type": "stream",
     "text": [
      "2019\n",
      "2020\n",
      "2019-2020\n"
     ]
    }
   ],
   "source": [
    "# Loop through the sheet objects \n",
    "for sheet in book.sheets():\n",
    "    print(sheet.name)"
   ]
  },
  {
   "cell_type": "code",
   "execution_count": 58,
   "id": "185071d6",
   "metadata": {},
   "outputs": [],
   "source": [
    "# Get a sheet object by name or index (0-based) \n",
    "sheet = book.sheet_by_index(0)\n",
    "sheet = book.sheet_by_name(\"2019\")"
   ]
  },
  {
   "cell_type": "code",
   "execution_count": 59,
   "id": "79e06123",
   "metadata": {},
   "outputs": [
    {
     "data": {
      "text/plain": [
       "(8, 6)"
      ]
     },
     "execution_count": 59,
     "metadata": {},
     "output_type": "execute_result"
    }
   ],
   "source": [
    "# Dimensions\n",
    "sheet.nrows, sheet.ncols"
   ]
  },
  {
   "cell_type": "code",
   "execution_count": 60,
   "id": "853de1b0",
   "metadata": {},
   "outputs": [
    {
     "data": {
      "text/plain": [
       "'New York'"
      ]
     },
     "execution_count": 60,
     "metadata": {},
     "output_type": "execute_result"
    }
   ],
   "source": [
    "# Read the value of a single cell\n",
    "# using \"A1\" notation and using cell indices (0-based). \n",
    "# The \"*\" unpacks the tuple that cell_to_rowcol2 returns \n",
    "# into individual arguments. \n",
    "sheet.cell(*cell_to_rowcol2(\"B3\")).value\n",
    "sheet.cell(2, 1).value"
   ]
  },
  {
   "cell_type": "markdown",
   "id": "3667690e",
   "metadata": {},
   "source": [
    "### Writing with xlwt"
   ]
  },
  {
   "cell_type": "code",
   "execution_count": 61,
   "id": "1fa1e9fd",
   "metadata": {},
   "outputs": [],
   "source": [
    "import xlwt\n",
    "from xlwt.Utils import cell_to_rowcol2 \n",
    "import datetime as dt"
   ]
  },
  {
   "cell_type": "code",
   "execution_count": 63,
   "id": "5b5f0faa",
   "metadata": {},
   "outputs": [],
   "source": [
    "# Instantiate a workbook \n",
    "book = xlwt.Workbook()\n",
    "\n",
    "# Add a sheet and give it a name\n",
    "sheet = book.add_sheet(\"Sheet1\")\n",
    "\n",
    "# Writing individual cells using A1 notation \n",
    "# and cell indices (0-based) \n",
    "sheet.write(*cell_to_rowcol2(\"A1\"), \"Hello 1\") \n",
    "sheet.write(r=1, c=0, label=\"Hello 2\")\n",
    "\n",
    "# Formatting: fill color, alignment, border and font\n",
    "formatting = xlwt.easyxf(\"font: bold on, color red;\"\n",
    "                         \"align: horiz center;\"\n",
    "                         \"borders: top_color red, bottom_color red,\"\n",
    "                                  \"right_color red, left_color red,\"\n",
    "                                  \"left thin, right thin,\"\n",
    "                                  \"top thin, bottom thin;\"\n",
    "                         \"pattern: pattern solid, fore_color yellow;\")\n",
    "sheet.write(r=2, c=0, label=\"Hello 3\", style=formatting)\n",
    "\n",
    "# Number formatting (using Excel's formatting strings)\n",
    "number_format = xlwt.easyxf(num_format_str=\"0.00\")\n",
    "sheet.write(3, 0, 3.3333, number_format)\n",
    "\n",
    "# Date formatting (using Excel's formatting strings)\n",
    "date_format = xlwt.easyxf(num_format_str=\"mm/dd/yyyy\")\n",
    "sheet.write(4, 0, dt.datetime(2012, 2, 3), date_format)\n",
    "\n",
    "# Formula: you must use the English name of the formula \n",
    "# with commas as delimiters\n",
    "sheet.write(5, 0, xlwt.Formula(\"SUM(A4, 2)\"))\n",
    "\n",
    "# Two-dimensional list (we're using our excel module)\n",
    "data = [[None, \"North\", \"South\"],\n",
    "        [\"Last Year\", 2, 5],\n",
    "        [\"This Year\", 3, 6]]\n",
    "# excel.write(sheet, data, \"A10\")\n",
    "\n",
    " # Picture (only allows to add bmp format)\n",
    "imagepath = originalpath + \"images/python.bmp\"\n",
    "sheet.insert_bitmap(imagepath, 0, 2)\n",
    "\n",
    "# This writes the file to disk\n",
    "book.save(\"xlwt.xls\")"
   ]
  },
  {
   "cell_type": "markdown",
   "id": "946479c7",
   "metadata": {},
   "source": [
    "### Editing with xlutils "
   ]
  },
  {
   "cell_type": "markdown",
   "id": "3bce4461",
   "metadata": {},
   "source": [
    "xlutils acts as a bridge between xlrd and xlwt. This makes it explicit that this is not a true editing operation: the spreadsheet is read including the formatting via xlrd (by setting formatting_info=True) and then written out again by xlwt, including the changes that were made in between:"
   ]
  },
  {
   "cell_type": "code",
   "execution_count": 64,
   "id": "d3d0192c",
   "metadata": {},
   "outputs": [],
   "source": [
    "import xlutils.copy"
   ]
  },
  {
   "cell_type": "code",
   "execution_count": 65,
   "id": "93c1d12a",
   "metadata": {},
   "outputs": [],
   "source": [
    "filepath = originalpath + \"xl/stores.xls\""
   ]
  },
  {
   "cell_type": "code",
   "execution_count": 66,
   "id": "244cae6f",
   "metadata": {},
   "outputs": [],
   "source": [
    "book = xlrd.open_workbook(filepath, formatting_info=True)\n",
    "book = xlutils.copy.copy(book)\n",
    "book.save(\"stores_edited.xls\")"
   ]
  },
  {
   "cell_type": "markdown",
   "id": "8a6bac57",
   "metadata": {},
   "source": [
    "# Advanced Reader and Writer Topics"
   ]
  },
  {
   "cell_type": "markdown",
   "id": "2da621b1",
   "metadata": {},
   "source": [
    "Learn how to use pandas together with the reader and writer packages."
   ]
  },
  {
   "cell_type": "markdown",
   "id": "1d8b6410",
   "metadata": {},
   "source": [
    "## Working with Big Excel Files "
   ]
  },
  {
   "cell_type": "markdown",
   "id": "201aa29b",
   "metadata": {},
   "source": [
    "### Writing with OpenPyXL "
   ]
  },
  {
   "cell_type": "markdown",
   "id": "e96ea778",
   "metadata": {},
   "source": [
    "When writing large files with OpenPyXL, make sure to have the lxml package installed, as this makes the writing process faster. The critical option, though, is the **write_only=True** flag, which makes sure that the memory consumption remains low. It, however, forces you to write row by row by using the append method and won’t allow you to write single cells anymore:"
   ]
  },
  {
   "cell_type": "code",
   "execution_count": 70,
   "id": "7fc23136",
   "metadata": {},
   "outputs": [],
   "source": [
    "book = openpyxl.Workbook(write_only=True)\n",
    "# With write_only=True, book.active doesn't work \n",
    "sheet = book.create_sheet()\n",
    "# This will produce a sheet with 1000 x 200 cells \n",
    "for row in range(1000):\n",
    "    sheet.append(list(range(200)))\n",
    "book.save(\"openpyxl_optimized.xlsx\")\n"
   ]
  },
  {
   "cell_type": "markdown",
   "id": "d4b87643",
   "metadata": {},
   "source": [
    "### Writing with XlsxWriter"
   ]
  },
  {
   "cell_type": "markdown",
   "id": "d6dab788",
   "metadata": {},
   "source": [
    "XlsxWriter has a similar option like OpenPyXL called **constant_memory**. It forces you to write sequential rows, too."
   ]
  },
  {
   "cell_type": "code",
   "execution_count": 71,
   "id": "0936e434",
   "metadata": {},
   "outputs": [],
   "source": [
    "book = xlsxwriter.Workbook(\"xlsxwriter_optimized.xlsx\",\n",
    "                            options={\"constant_memory\": True})\n",
    "sheet = book.add_worksheet()\n",
    "# This will produce a sheet with 1000 x 200 cells \n",
    "for row in range(1000):\n",
    "    sheet.write_row(row , 0, list(range(200)))\n",
    "book.close()"
   ]
  },
  {
   "cell_type": "markdown",
   "id": "fd0c5df7",
   "metadata": {},
   "source": [
    "### Reading with xlrd"
   ]
  },
  {
   "cell_type": "markdown",
   "id": "81001e99",
   "metadata": {},
   "source": [
    "When reading big files in the legacy xls format, xlrd allows you to load sheets on demand, like this:"
   ]
  },
  {
   "cell_type": "code",
   "execution_count": 74,
   "id": "5c1bd9d3",
   "metadata": {},
   "outputs": [],
   "source": [
    "filepath = originalpath + \"xl/stores.xls\""
   ]
  },
  {
   "cell_type": "code",
   "execution_count": 76,
   "id": "f19e943c",
   "metadata": {},
   "outputs": [],
   "source": [
    "with xlrd.open_workbook(filepath, on_demand=True) as book: \n",
    "    sheet = book.sheet_by_index(0) # Only loads the first sheet"
   ]
  },
  {
   "cell_type": "markdown",
   "id": "83797d39",
   "metadata": {},
   "source": [
    "If you wouldn’t use the workbook as a context manager as we do here, you would need to call **book.release_resources()** manually to properly close the workbook again. To use xlrd in this mode with pandas, use it like this:"
   ]
  },
  {
   "cell_type": "code",
   "execution_count": 77,
   "id": "cc476a59",
   "metadata": {},
   "outputs": [],
   "source": [
    "with xlrd.open_workbook(filepath, on_demand=True) as book: \n",
    "    with pd.ExcelFile(book, engine=\"xlrd\") as f:\n",
    "        df = pd.read_excel(f, sheet_name=0)"
   ]
  },
  {
   "cell_type": "markdown",
   "id": "bef8a650",
   "metadata": {},
   "source": [
    "### Reading with OpenPyXL "
   ]
  },
  {
   "cell_type": "markdown",
   "id": "397a13c3",
   "metadata": {},
   "source": [
    "To keep memory under control when reading big Excel files with OpenPyXL, you should load the workbook with **read_only=True**. Since OpenPyXL doesn’t support the with statement, you will need to make sure to close the file again when you’re done. If your file contains links to external workbooks, you may additionally want to use **keep_links=False** to make it faster."
   ]
  },
  {
   "cell_type": "code",
   "execution_count": 78,
   "id": "fe5ce03c",
   "metadata": {},
   "outputs": [],
   "source": [
    "filepath = originalpath + \"xl/big.xlsx\"\n",
    "book = openpyxl.load_workbook(filepath,\n",
    "                              data_only=True, read_only=True,\n",
    "                              keep_links=False)\n",
    "# Perform the desired read operations here\n",
    "book.close() # Required with read_only=True"
   ]
  },
  {
   "cell_type": "code",
   "execution_count": 80,
   "id": "4352552f",
   "metadata": {},
   "outputs": [
    {
     "data": {
      "text/plain": [
       "['Sheet1', 'Sheet2', 'Sheet3', 'Sheet4', 'Sheet5']"
      ]
     },
     "execution_count": 80,
     "metadata": {},
     "output_type": "execute_result"
    }
   ],
   "source": [
    "book.sheetnames"
   ]
  },
  {
   "cell_type": "markdown",
   "id": "fedcf5c5",
   "metadata": {},
   "source": [
    "## Formatting DataFrames in Excel "
   ]
  },
  {
   "cell_type": "code",
   "execution_count": 81,
   "id": "a7490faa",
   "metadata": {},
   "outputs": [],
   "source": [
    "filepath = originalpath + \"xl/stores.xlsx\"\n",
    "\n",
    "with pd.ExcelFile(filepath, engine=\"openpyxl\") as xlfile:\n",
    "    # Read a DataFrame\n",
    "    df = pd.read_excel(xlfile, sheet_name=\"2020\")\n",
    "    \n",
    "    # Get the OpenPyXL workbook object\n",
    "    book = xlfile.book\n",
    "    \n",
    "    # From here on, it's OpenPyXL code\n",
    "    sheet = book[\"2019\"]\n",
    "    value = sheet[\"B3\"].value # Read a single value"
   ]
  },
  {
   "cell_type": "code",
   "execution_count": 82,
   "id": "6e9d8dbc",
   "metadata": {},
   "outputs": [],
   "source": [
    "with pd.ExcelWriter(\"pandas_and_openpyxl.xlsx\",\n",
    "                    engine=\"openpyxl\") as writer:\n",
    "    df = pd.DataFrame({\"col1\": [1, 2, 3, 4], \"col2\": [5, 6, 7, 8]})\n",
    "    # Write a DataFrame\n",
    "    df.to_excel(writer, \"Sheet1\", startrow=4, startcol=2)\n",
    "    \n",
    "    # Get the OpenPyXL workbook and sheet objects\n",
    "    book = writer.book\n",
    "    sheet = writer.sheets[\"Sheet1\"]\n",
    "    \n",
    "    # From here on, it's OpenPyXL code\n",
    "    sheet[\"A1\"].value = \"This is a Title\" # Write a single cell value"
   ]
  },
  {
   "cell_type": "markdown",
   "id": "f44bec89",
   "metadata": {},
   "source": [
    "### Formatting a DataFrame's index and headers "
   ]
  },
  {
   "cell_type": "code",
   "execution_count": 83,
   "id": "c5dae127",
   "metadata": {},
   "outputs": [
    {
     "data": {
      "text/html": [
       "<div>\n",
       "<style scoped>\n",
       "    .dataframe tbody tr th:only-of-type {\n",
       "        vertical-align: middle;\n",
       "    }\n",
       "\n",
       "    .dataframe tbody tr th {\n",
       "        vertical-align: top;\n",
       "    }\n",
       "\n",
       "    .dataframe thead th {\n",
       "        text-align: right;\n",
       "    }\n",
       "</style>\n",
       "<table border=\"1\" class=\"dataframe\">\n",
       "  <thead>\n",
       "    <tr style=\"text-align: right;\">\n",
       "      <th></th>\n",
       "      <th>col1</th>\n",
       "      <th>col2</th>\n",
       "    </tr>\n",
       "    <tr>\n",
       "      <th>ix</th>\n",
       "      <th></th>\n",
       "      <th></th>\n",
       "    </tr>\n",
       "  </thead>\n",
       "  <tbody>\n",
       "    <tr>\n",
       "      <th>row1</th>\n",
       "      <td>1</td>\n",
       "      <td>-3</td>\n",
       "    </tr>\n",
       "    <tr>\n",
       "      <th>row2</th>\n",
       "      <td>-2</td>\n",
       "      <td>4</td>\n",
       "    </tr>\n",
       "  </tbody>\n",
       "</table>\n",
       "</div>"
      ],
      "text/plain": [
       "      col1  col2\n",
       "ix              \n",
       "row1     1    -3\n",
       "row2    -2     4"
      ]
     },
     "execution_count": 83,
     "metadata": {},
     "output_type": "execute_result"
    }
   ],
   "source": [
    "df = pd.DataFrame({\"col1\": [1, -2], \"col2\": [-3, 4]},\n",
    "                 index = [\"row1\", \"row2\"])\n",
    "df.index.name = \"ix\"\n",
    "df"
   ]
  },
  {
   "cell_type": "code",
   "execution_count": 84,
   "id": "341283ca",
   "metadata": {},
   "outputs": [],
   "source": [
    "from openpyxl.styles import PatternFill"
   ]
  },
  {
   "cell_type": "code",
   "execution_count": 86,
   "id": "67e17522",
   "metadata": {},
   "outputs": [],
   "source": [
    "with pd.ExcelWriter(\"formatting_openpyxl.xlsx\",\n",
    "                   engine=\"openpyxl\") as writer:\n",
    "    # Write out the df with the default formatting to A1\n",
    "    df.to_excel(writer, startrow=0, startcol=0)\n",
    "    \n",
    "    # Write out the df with custom index/header formatting to A6\n",
    "    startrow, startcol = 0, 5\n",
    "    \n",
    "    # 1. Write out the data part of the DataFrame\n",
    "    df.to_excel(writer, header=False, index=False, \n",
    "               startrow=startrow+1, startcol=startcol+1)\n",
    "    # Get the sheet object and create a style object\n",
    "    sheet = writer.sheets[\"Sheet1\"]\n",
    "    style = PatternFill(fgColor=\"D9D9D9\", fill_type=\"solid\")\n",
    "    \n",
    "    # 2. Write out the styled column headers\n",
    "    for i, col in enumerate(df.columns):\n",
    "        sheet.cell(row=startrow+1, column=i+startcol+2, value=col).fill = style\n",
    "    \n",
    "    # 3. Write out the styled index\n",
    "    index = [df.index.name if df.index.name else None] + list(df.index)\n",
    "    for i, row in enumerate(index):\n",
    "        sheet.cell(row=i+startrow+1, column=startcol+1, value=row).fill = style"
   ]
  },
  {
   "cell_type": "code",
   "execution_count": 88,
   "id": "33ba206a",
   "metadata": {},
   "outputs": [],
   "source": [
    "# Formatting index/headers with XlsxWriter\n",
    "with pd.ExcelWriter(\"formatting_xlsxwriter.xlsx\",\n",
    "                   engine=\"xlsxwriter\") as writer:\n",
    "    # Write out the df with the default formatting to A1\n",
    "    df.to_excel(writer, startrow=0, startcol=0)\n",
    "    \n",
    "    # Write out the df with custom index/header formatting to A6\n",
    "    startrow, startcol = 0, 5\n",
    "    \n",
    "    # 1. Write out the data part of the DataFrame\n",
    "    df.to_excel(writer, header=False, index=False,\n",
    "                startrow=startrow + 1, startcol=startcol + 1)\n",
    "    # Get the book and sheet object and create a style object \n",
    "    book = writer.book\n",
    "    sheet = writer.sheets[\"Sheet1\"]\n",
    "    style = book.add_format({\"bg_color\": \"#D9D9D9\"})\n",
    "    \n",
    "    # 2. Write out the styled column headers\n",
    "    for i, col in enumerate(df.columns): \n",
    "        sheet.write(startrow, startcol + i + 1, col, style)\n",
    "\n",
    "    # 3. Write out the styled index\n",
    "    index = [df.index.name if df.index.name else None] + list(df.index) \n",
    "    for i, row in enumerate(index):\n",
    "        sheet.write(startrow + i, startcol, row, style)"
   ]
  },
  {
   "cell_type": "markdown",
   "id": "1a5eed2a",
   "metadata": {},
   "source": [
    "### Formatting a DataFrame's data part "
   ]
  },
  {
   "cell_type": "markdown",
   "id": "808fc840",
   "metadata": {},
   "source": [
    "OpenPyXL can apply a format to each cell, while XlsxWriter can only apply formats on a row or column basis. "
   ]
  },
  {
   "cell_type": "code",
   "execution_count": 89,
   "id": "ad3153c6",
   "metadata": {},
   "outputs": [],
   "source": [
    "from openpyxl.styles import Alignment"
   ]
  },
  {
   "cell_type": "code",
   "execution_count": 90,
   "id": "f466b00e",
   "metadata": {},
   "outputs": [],
   "source": [
    "with pd.ExcelWriter(\"data_format_openpyxl.xlsx\", engine=\"openpyxl\") as writer:\n",
    "    # Write out the DataFrame\n",
    "    df.to_excel(writer)\n",
    "                 \n",
    "    # Get the book and sheet objects\n",
    "    book = writer.book\n",
    "    sheet = writer.sheets[\"Sheet1\"]\n",
    "    \n",
    "    # Formatting individual cells\n",
    "    nrows, ncols = df.shape \n",
    "    for row in range(nrows):\n",
    "        for col in range(ncols):\n",
    "            # +1 to account for the header/index \n",
    "            # +1 since OpenPyXL is 1-based\n",
    "            cell = sheet.cell(row=row + 2,\n",
    "                              column=col + 2)\n",
    "            cell.number_format = \"0.000\"\n",
    "            cell.alignment = Alignment(horizontal=\"center\")"
   ]
  },
  {
   "cell_type": "code",
   "execution_count": 91,
   "id": "80d0c544",
   "metadata": {},
   "outputs": [],
   "source": [
    "with pd.ExcelWriter(\"data_format_xlsxwriter.xlsx\", engine=\"xlsxwriter\") as writer:\n",
    "    # Write out the DataFrame\n",
    "    df.to_excel(writer)\n",
    "    \n",
    "    # Get the book and sheet objects\n",
    "    book = writer.book\n",
    "    sheet = writer.sheets[\"Sheet1\"]\n",
    "    \n",
    "    # Formatting the columns (individual cells can't be formatted)\n",
    "    number_format = book.add_format({\"num_format\": \"0.000\",\n",
    "                                     \"align\": \"center\"})\n",
    "    sheet.set_column(first_col=1, last_col=2,\n",
    "                     cell_format=number_format)"
   ]
  },
  {
   "cell_type": "markdown",
   "id": "ba0bf3e0",
   "metadata": {},
   "source": [
    "As an alternative, pandas offers *experimental support* for the style property of DataFrames. To apply the same format as in the previous example (three decimals and center align), you’ll need to apply a function to every element of a Styler object via **applymap**. You get a Styler object via the df.style attribute:"
   ]
  },
  {
   "cell_type": "code",
   "execution_count": 92,
   "id": "bdec32df",
   "metadata": {},
   "outputs": [],
   "source": [
    "df.style.applymap(lambda x: \"number-format: 0.000;\" \"text-align: center\")\\\n",
    "    .to_excel(\"styled.xlsx\")"
   ]
  },
  {
   "cell_type": "code",
   "execution_count": 93,
   "id": "8087308e",
   "metadata": {},
   "outputs": [],
   "source": [
    "df = pd.DataFrame({\"Date\": [dt.date(2020, 1, 1)],\n",
    "                   \"Datetime\": [dt.datetime(2020, 1, 1, 10)]})\n",
    "with pd.ExcelWriter(\"date.xlsx\",\n",
    "                    date_format=\"yyyy-mm-dd\",\n",
    "                    datetime_format=\"yyyy-mm-dd hh:mm:ss\") as writer:\n",
    "    df.to_excel(writer)"
   ]
  }
 ],
 "metadata": {
  "kernelspec": {
   "display_name": "Python 3 (ipykernel)",
   "language": "python",
   "name": "python3"
  },
  "language_info": {
   "codemirror_mode": {
    "name": "ipython",
    "version": 3
   },
   "file_extension": ".py",
   "mimetype": "text/x-python",
   "name": "python",
   "nbconvert_exporter": "python",
   "pygments_lexer": "ipython3",
   "version": "3.8.13"
  }
 },
 "nbformat": 4,
 "nbformat_minor": 5
}
