{
 "cells": [
  {
   "cell_type": "markdown",
   "id": "a72b95d8",
   "metadata": {},
   "source": [
    "# Excel Automation"
   ]
  },
  {
   "cell_type": "markdown",
   "id": "32a976a6",
   "metadata": {},
   "source": [
    "The main use case of xlwings is to build interactive applications where Excel spread‐ sheets act as the user interface, allowing you to call Python by clicking a button or calling a user-defined function."
   ]
  },
  {
   "cell_type": "markdown",
   "id": "ab5b22e2",
   "metadata": {},
   "source": [
    "## Getting Started with xlwings "
   ]
  },
  {
   "cell_type": "markdown",
   "id": "7f7f4812",
   "metadata": {},
   "source": [
    "### Using Excel as Data Viewer "
   ]
  },
  {
   "cell_type": "code",
   "execution_count": 1,
   "id": "c001c64c",
   "metadata": {},
   "outputs": [],
   "source": [
    "import datetime as dt\n",
    "import xlwings as xw\n",
    "import pandas as pd\n",
    "import numpy as np"
   ]
  },
  {
   "cell_type": "code",
   "execution_count": 2,
   "id": "03dc9cb1",
   "metadata": {},
   "outputs": [
    {
     "data": {
      "text/html": [
       "<div>\n",
       "<style scoped>\n",
       "    .dataframe tbody tr th:only-of-type {\n",
       "        vertical-align: middle;\n",
       "    }\n",
       "\n",
       "    .dataframe tbody tr th {\n",
       "        vertical-align: top;\n",
       "    }\n",
       "\n",
       "    .dataframe thead th {\n",
       "        text-align: right;\n",
       "    }\n",
       "</style>\n",
       "<table border=\"1\" class=\"dataframe\">\n",
       "  <thead>\n",
       "    <tr style=\"text-align: right;\">\n",
       "      <th></th>\n",
       "      <th>Trial 1</th>\n",
       "      <th>Trial 2</th>\n",
       "      <th>Trial 3</th>\n",
       "      <th>Trial 4</th>\n",
       "      <th>Trial 5</th>\n",
       "    </tr>\n",
       "  </thead>\n",
       "  <tbody>\n",
       "    <tr>\n",
       "      <th>0</th>\n",
       "      <td>0.645586</td>\n",
       "      <td>-0.256180</td>\n",
       "      <td>0.495538</td>\n",
       "      <td>2.014211</td>\n",
       "      <td>0.379844</td>\n",
       "    </tr>\n",
       "    <tr>\n",
       "      <th>1</th>\n",
       "      <td>0.443941</td>\n",
       "      <td>1.371244</td>\n",
       "      <td>-0.832808</td>\n",
       "      <td>1.474660</td>\n",
       "      <td>-0.851874</td>\n",
       "    </tr>\n",
       "    <tr>\n",
       "      <th>2</th>\n",
       "      <td>0.926655</td>\n",
       "      <td>-0.041778</td>\n",
       "      <td>-0.695368</td>\n",
       "      <td>-2.003541</td>\n",
       "      <td>-0.305777</td>\n",
       "    </tr>\n",
       "    <tr>\n",
       "      <th>3</th>\n",
       "      <td>-0.957013</td>\n",
       "      <td>0.499331</td>\n",
       "      <td>-0.150279</td>\n",
       "      <td>0.913638</td>\n",
       "      <td>-1.886473</td>\n",
       "    </tr>\n",
       "    <tr>\n",
       "      <th>4</th>\n",
       "      <td>-1.309268</td>\n",
       "      <td>-0.591830</td>\n",
       "      <td>-0.185626</td>\n",
       "      <td>-1.277220</td>\n",
       "      <td>-0.155505</td>\n",
       "    </tr>\n",
       "    <tr>\n",
       "      <th>...</th>\n",
       "      <td>...</td>\n",
       "      <td>...</td>\n",
       "      <td>...</td>\n",
       "      <td>...</td>\n",
       "      <td>...</td>\n",
       "    </tr>\n",
       "    <tr>\n",
       "      <th>95</th>\n",
       "      <td>-0.917445</td>\n",
       "      <td>-0.882197</td>\n",
       "      <td>-0.042495</td>\n",
       "      <td>0.145563</td>\n",
       "      <td>0.897900</td>\n",
       "    </tr>\n",
       "    <tr>\n",
       "      <th>96</th>\n",
       "      <td>-1.227374</td>\n",
       "      <td>0.636106</td>\n",
       "      <td>-0.115613</td>\n",
       "      <td>0.840839</td>\n",
       "      <td>0.201259</td>\n",
       "    </tr>\n",
       "    <tr>\n",
       "      <th>97</th>\n",
       "      <td>-0.825779</td>\n",
       "      <td>0.786136</td>\n",
       "      <td>0.189731</td>\n",
       "      <td>-0.584834</td>\n",
       "      <td>0.379202</td>\n",
       "    </tr>\n",
       "    <tr>\n",
       "      <th>98</th>\n",
       "      <td>0.652121</td>\n",
       "      <td>-0.137036</td>\n",
       "      <td>-2.246707</td>\n",
       "      <td>-1.087663</td>\n",
       "      <td>0.097962</td>\n",
       "    </tr>\n",
       "    <tr>\n",
       "      <th>99</th>\n",
       "      <td>0.135991</td>\n",
       "      <td>-0.655631</td>\n",
       "      <td>0.766552</td>\n",
       "      <td>-0.183416</td>\n",
       "      <td>0.090708</td>\n",
       "    </tr>\n",
       "  </tbody>\n",
       "</table>\n",
       "<p>100 rows × 5 columns</p>\n",
       "</div>"
      ],
      "text/plain": [
       "     Trial 1   Trial 2   Trial 3   Trial 4   Trial 5\n",
       "0   0.645586 -0.256180  0.495538  2.014211  0.379844\n",
       "1   0.443941  1.371244 -0.832808  1.474660 -0.851874\n",
       "2   0.926655 -0.041778 -0.695368 -2.003541 -0.305777\n",
       "3  -0.957013  0.499331 -0.150279  0.913638 -1.886473\n",
       "4  -1.309268 -0.591830 -0.185626 -1.277220 -0.155505\n",
       "..       ...       ...       ...       ...       ...\n",
       "95 -0.917445 -0.882197 -0.042495  0.145563  0.897900\n",
       "96 -1.227374  0.636106 -0.115613  0.840839  0.201259\n",
       "97 -0.825779  0.786136  0.189731 -0.584834  0.379202\n",
       "98  0.652121 -0.137036 -2.246707 -1.087663  0.097962\n",
       "99  0.135991 -0.655631  0.766552 -0.183416  0.090708\n",
       "\n",
       "[100 rows x 5 columns]"
      ]
     },
     "execution_count": 2,
     "metadata": {},
     "output_type": "execute_result"
    }
   ],
   "source": [
    "# Let's create a DataFrame based on pseudorandom numbers and \n",
    "# with enough rows that only the head and tail are shown\n",
    "df = pd.DataFrame(data=np.random.randn(100, 5),\n",
    "                  columns=[f\"Trial {i}\" for i in range(1, 6)])\n",
    "df"
   ]
  },
  {
   "cell_type": "code",
   "execution_count": 3,
   "id": "3f509fae",
   "metadata": {},
   "outputs": [],
   "source": [
    "# View the DataFrame in Excel\n",
    "xw.view(df)"
   ]
  },
  {
   "cell_type": "markdown",
   "id": "5c4bdb74",
   "metadata": {},
   "source": [
    "### The Excel Object Model "
   ]
  },
  {
   "cell_type": "markdown",
   "id": "0f0c7af0",
   "metadata": {},
   "source": [
    "When you work with Excel programmatically, you interact with its components like a workbook or a sheet. These components are organized in the Excel object model, a hierarchical structure that represents Excel’s graphical user interface. \n",
    "\n",
    "xlwings uses the names **app** instead of application and **book** instead of workbook:\n",
    "+ An app contains the books collection\n",
    "+ A book contains the sheets collection\n",
    "+ A sheet gives access to range objects and collections such as charts\n",
    "+ A range contains one or more contiguous cells as its items\n",
    "\n",
    "To summarize, an Excel instance is a sandboxed environment, which means that one instance can’t communicate with the other one."
   ]
  },
  {
   "cell_type": "code",
   "execution_count": 4,
   "id": "8336ea06",
   "metadata": {},
   "outputs": [
    {
     "data": {
      "text/plain": [
       "'Book3'"
      ]
     },
     "execution_count": 4,
     "metadata": {},
     "output_type": "execute_result"
    }
   ],
   "source": [
    "# Create a new empty workbook and print its name.\n",
    "book = xw.Book()\n",
    "book.name"
   ]
  },
  {
   "cell_type": "code",
   "execution_count": 5,
   "id": "39411942",
   "metadata": {},
   "outputs": [
    {
     "data": {
      "text/plain": [
       "Sheets([<Sheet [Book3]Sheet1>])"
      ]
     },
     "execution_count": 5,
     "metadata": {},
     "output_type": "execute_result"
    }
   ],
   "source": [
    "# Accessing the sheets collection\n",
    "book.sheets"
   ]
  },
  {
   "cell_type": "code",
   "execution_count": 6,
   "id": "2e0be2f2",
   "metadata": {},
   "outputs": [],
   "source": [
    "# Get a sheet object by index or name. You will need to adjust \n",
    "# \"Sheet1\" if your sheet is called differently.\n",
    "sheet1 = book.sheets[0]\n",
    "sheet1 = book.sheets[\"Sheet1\"]"
   ]
  },
  {
   "cell_type": "code",
   "execution_count": 7,
   "id": "67e7aa4c",
   "metadata": {},
   "outputs": [
    {
     "data": {
      "text/plain": [
       "<Range [Book3]Sheet1!$A$1>"
      ]
     },
     "execution_count": 7,
     "metadata": {},
     "output_type": "execute_result"
    }
   ],
   "source": [
    "sheet1.range(\"A1\")"
   ]
  },
  {
   "cell_type": "code",
   "execution_count": 8,
   "id": "7bc32743",
   "metadata": {},
   "outputs": [],
   "source": [
    "# Most common tasks: write values... \n",
    "sheet1.range(\"A1\").value = [[1, 2], [3, 4]] \n",
    "sheet1.range(\"A4\").value = \"Hello!\""
   ]
  },
  {
   "cell_type": "code",
   "execution_count": 9,
   "id": "3c9894d1",
   "metadata": {},
   "outputs": [
    {
     "data": {
      "text/plain": [
       "[[1.0, 2.0], [3.0, 4.0]]"
      ]
     },
     "execution_count": 9,
     "metadata": {},
     "output_type": "execute_result"
    }
   ],
   "source": [
    "# ...and read values \n",
    "sheet1.range(\"A1:B2\").value"
   ]
  },
  {
   "cell_type": "code",
   "execution_count": 10,
   "id": "e1c343be",
   "metadata": {},
   "outputs": [
    {
     "data": {
      "text/plain": [
       "'Hello!'"
      ]
     },
     "execution_count": 10,
     "metadata": {},
     "output_type": "execute_result"
    }
   ],
   "source": [
    "sheet1.range(\"A4\").value"
   ]
  },
  {
   "cell_type": "code",
   "execution_count": 11,
   "id": "5261ac5f",
   "metadata": {},
   "outputs": [
    {
     "data": {
      "text/plain": [
       "<Range [Book3]Sheet1!$A$1>"
      ]
     },
     "execution_count": 11,
     "metadata": {},
     "output_type": "execute_result"
    }
   ],
   "source": [
    "# Indexing \n",
    "sheet1.range(\"A1:B2\")[0, 0]"
   ]
  },
  {
   "cell_type": "code",
   "execution_count": 12,
   "id": "c8f6c17d",
   "metadata": {},
   "outputs": [
    {
     "data": {
      "text/plain": [
       "<Range [Book3]Sheet1!$B$1:$B$2>"
      ]
     },
     "execution_count": 12,
     "metadata": {},
     "output_type": "execute_result"
    }
   ],
   "source": [
    "# Slicing \n",
    "sheet1.range(\"A1:B2\")[:, 1]"
   ]
  },
  {
   "cell_type": "code",
   "execution_count": 13,
   "id": "a9357ab7",
   "metadata": {},
   "outputs": [
    {
     "data": {
      "text/plain": [
       "<Range [Book3]Sheet1!$A$1>"
      ]
     },
     "execution_count": 13,
     "metadata": {},
     "output_type": "execute_result"
    }
   ],
   "source": [
    "# Single cell: A1 notation \n",
    "sheet1[\"A1\"]"
   ]
  },
  {
   "cell_type": "code",
   "execution_count": 14,
   "id": "33b9c7e6",
   "metadata": {},
   "outputs": [
    {
     "data": {
      "text/plain": [
       "<Range [Book3]Sheet1!$A$1:$B$2>"
      ]
     },
     "execution_count": 14,
     "metadata": {},
     "output_type": "execute_result"
    }
   ],
   "source": [
    "# Multiple cells: A1 notation \n",
    "sheet1[\"A1:B2\"]"
   ]
  },
  {
   "cell_type": "code",
   "execution_count": 15,
   "id": "8ad69b5e",
   "metadata": {},
   "outputs": [
    {
     "data": {
      "text/plain": [
       "<Range [Book3]Sheet1!$A$1>"
      ]
     },
     "execution_count": 15,
     "metadata": {},
     "output_type": "execute_result"
    }
   ],
   "source": [
    "# Single cell: indexing \n",
    "sheet1[0, 0]"
   ]
  },
  {
   "cell_type": "code",
   "execution_count": 16,
   "id": "8e448327",
   "metadata": {},
   "outputs": [
    {
     "data": {
      "text/plain": [
       "<Range [Book3]Sheet1!$A$1:$B$2>"
      ]
     },
     "execution_count": 16,
     "metadata": {},
     "output_type": "execute_result"
    }
   ],
   "source": [
    "# Multiple cells: slicing \n",
    "sheet1[:2, :2]"
   ]
  },
  {
   "cell_type": "code",
   "execution_count": 17,
   "id": "d235ebed",
   "metadata": {},
   "outputs": [
    {
     "data": {
      "text/plain": [
       "<Range [Book3]Sheet1!$D$10>"
      ]
     },
     "execution_count": 17,
     "metadata": {},
     "output_type": "execute_result"
    }
   ],
   "source": [
    "# D10 via sheet indexing \n",
    "sheet1[9, 3]"
   ]
  },
  {
   "cell_type": "code",
   "execution_count": 18,
   "id": "7a35b607",
   "metadata": {},
   "outputs": [
    {
     "data": {
      "text/plain": [
       "<Range [Book3]Sheet1!$D$10>"
      ]
     },
     "execution_count": 18,
     "metadata": {},
     "output_type": "execute_result"
    }
   ],
   "source": [
    "# D10 via range object \n",
    "sheet1.range((10, 4))"
   ]
  },
  {
   "cell_type": "code",
   "execution_count": 19,
   "id": "3b681a65",
   "metadata": {},
   "outputs": [
    {
     "data": {
      "text/plain": [
       "<Range [Book3]Sheet1!$D$10:$F$11>"
      ]
     },
     "execution_count": 19,
     "metadata": {},
     "output_type": "execute_result"
    }
   ],
   "source": [
    "# D10:F11 via sheet slicing \n",
    "sheet1[9:11, 3:6]"
   ]
  },
  {
   "cell_type": "code",
   "execution_count": 20,
   "id": "fa7b5c92",
   "metadata": {},
   "outputs": [
    {
     "data": {
      "text/plain": [
       "<Range [Book3]Sheet1!$D$10:$F$11>"
      ]
     },
     "execution_count": 20,
     "metadata": {},
     "output_type": "execute_result"
    }
   ],
   "source": [
    "# D10:F11 via range object \n",
    "sheet1.range((10, 4), (11, 6))"
   ]
  },
  {
   "cell_type": "code",
   "execution_count": 21,
   "id": "d6f94e40",
   "metadata": {},
   "outputs": [
    {
     "data": {
      "text/plain": [
       "<Excel App 8086>"
      ]
     },
     "execution_count": 21,
     "metadata": {},
     "output_type": "execute_result"
    }
   ],
   "source": [
    "# Get from a range object up to the app object\n",
    "sheet1[\"A1\"].sheet.book.app"
   ]
  },
  {
   "cell_type": "code",
   "execution_count": 22,
   "id": "f23cd17d",
   "metadata": {},
   "outputs": [],
   "source": [
    "# Get one app object from the open workbook\n",
    "# and create an additional invisible app instance \n",
    "visible_app = sheet1.book.app\n",
    "invisible_app = xw.App(visible=False)"
   ]
  },
  {
   "cell_type": "code",
   "execution_count": 23,
   "id": "ee3e747b",
   "metadata": {},
   "outputs": [
    {
     "data": {
      "text/plain": [
       "['Book3']"
      ]
     },
     "execution_count": 23,
     "metadata": {},
     "output_type": "execute_result"
    }
   ],
   "source": [
    "# List the book names that are open in each instance \n",
    "# by using a list comprehension\n",
    "[book.name for book in visible_app.books]"
   ]
  },
  {
   "cell_type": "code",
   "execution_count": 25,
   "id": "5fc365e9",
   "metadata": {},
   "outputs": [
    {
     "data": {
      "text/plain": [
       "['Book1']"
      ]
     },
     "execution_count": 25,
     "metadata": {},
     "output_type": "execute_result"
    }
   ],
   "source": [
    "[book.name for book in invisible_app.books]"
   ]
  },
  {
   "cell_type": "code",
   "execution_count": 26,
   "id": "16b7b031",
   "metadata": {},
   "outputs": [
    {
     "data": {
      "text/plain": [
       "[8142, 8086]"
      ]
     },
     "execution_count": 26,
     "metadata": {},
     "output_type": "execute_result"
    }
   ],
   "source": [
    "# An app key represents the process ID (PID) \n",
    "xw.apps.keys()"
   ]
  },
  {
   "cell_type": "code",
   "execution_count": 27,
   "id": "854f0f91",
   "metadata": {},
   "outputs": [
    {
     "data": {
      "text/plain": [
       "8142"
      ]
     },
     "execution_count": 27,
     "metadata": {},
     "output_type": "execute_result"
    }
   ],
   "source": [
    "# It can also be accessed via the pid attribute \n",
    "xw.apps.active.pid"
   ]
  },
  {
   "cell_type": "code",
   "execution_count": 28,
   "id": "555b01a4",
   "metadata": {},
   "outputs": [
    {
     "data": {
      "text/plain": [
       "Books([<Book [Book1]>])"
      ]
     },
     "execution_count": 28,
     "metadata": {},
     "output_type": "execute_result"
    }
   ],
   "source": [
    "invisible_app.books"
   ]
  },
  {
   "cell_type": "code",
   "execution_count": 29,
   "id": "bedd32d8",
   "metadata": {},
   "outputs": [],
   "source": [
    "# Work with the book in the invisible Excel instance\n",
    "invisible_book = invisible_app.books[0] \n",
    "invisible_book.sheets[0][\"A1\"].value = \"Created by an invisible app.\""
   ]
  },
  {
   "cell_type": "code",
   "execution_count": 31,
   "id": "537071f5",
   "metadata": {},
   "outputs": [],
   "source": [
    "# Save the Excel workbook in the directory \n",
    "invisible_book.save(\"invisible.xlsx\")"
   ]
  },
  {
   "cell_type": "code",
   "execution_count": 32,
   "id": "b11fae2c",
   "metadata": {},
   "outputs": [],
   "source": [
    "# Quit the invisible Excel instance \n",
    "invisible_app.quit()"
   ]
  },
  {
   "cell_type": "markdown",
   "id": "1e55531e",
   "metadata": {},
   "source": [
    "### Running VBA Code "
   ]
  },
  {
   "cell_type": "code",
   "execution_count": 33,
   "id": "4b5c444b",
   "metadata": {},
   "outputs": [],
   "source": [
    "vba_book = xw.Book(\"vba.xlsm\")"
   ]
  },
  {
   "cell_type": "code",
   "execution_count": 34,
   "id": "5c607280",
   "metadata": {},
   "outputs": [
    {
     "data": {
      "text/plain": [
       "9.0"
      ]
     },
     "execution_count": 34,
     "metadata": {},
     "output_type": "execute_result"
    }
   ],
   "source": [
    "# Instantiate a macro object with the VBA function \n",
    "mysum = vba_book.macro(\"Module1.MySum\")\n",
    "# Call a VBA function\n",
    "mysum(5, 4)"
   ]
  },
  {
   "cell_type": "code",
   "execution_count": 35,
   "id": "dfeb1a35",
   "metadata": {},
   "outputs": [
    {
     "data": {
      "text/plain": [
       "''"
      ]
     },
     "execution_count": 35,
     "metadata": {},
     "output_type": "execute_result"
    }
   ],
   "source": [
    "# It works the same with a VBA Sub procedure \n",
    "show_msgbox = vba_book.macro(\"Module1.ShowMsgBox\") \n",
    "show_msgbox(\"Hello xlwings!\")"
   ]
  },
  {
   "cell_type": "code",
   "execution_count": 36,
   "id": "74a5b51f",
   "metadata": {},
   "outputs": [],
   "source": [
    "# Close the book again (make sure to close the MessageBox first) \n",
    "vba_book.close()"
   ]
  },
  {
   "cell_type": "markdown",
   "id": "f54b633a",
   "metadata": {},
   "source": [
    "## Converters, Options, and Collections "
   ]
  },
  {
   "cell_type": "markdown",
   "id": "5ee00797",
   "metadata": {},
   "source": [
    "### Working with DataFrames "
   ]
  },
  {
   "cell_type": "code",
   "execution_count": 37,
   "id": "8af13249",
   "metadata": {},
   "outputs": [
    {
     "data": {
      "text/html": [
       "<div>\n",
       "<style scoped>\n",
       "    .dataframe tbody tr th:only-of-type {\n",
       "        vertical-align: middle;\n",
       "    }\n",
       "\n",
       "    .dataframe tbody tr th {\n",
       "        vertical-align: top;\n",
       "    }\n",
       "\n",
       "    .dataframe thead th {\n",
       "        text-align: right;\n",
       "    }\n",
       "</style>\n",
       "<table border=\"1\" class=\"dataframe\">\n",
       "  <thead>\n",
       "    <tr style=\"text-align: right;\">\n",
       "      <th></th>\n",
       "      <th>name</th>\n",
       "      <th>age</th>\n",
       "      <th>country</th>\n",
       "      <th>score</th>\n",
       "      <th>continent</th>\n",
       "    </tr>\n",
       "    <tr>\n",
       "      <th>user_id</th>\n",
       "      <th></th>\n",
       "      <th></th>\n",
       "      <th></th>\n",
       "      <th></th>\n",
       "      <th></th>\n",
       "    </tr>\n",
       "  </thead>\n",
       "  <tbody>\n",
       "    <tr>\n",
       "      <th>1001</th>\n",
       "      <td>Mark</td>\n",
       "      <td>55</td>\n",
       "      <td>Italy</td>\n",
       "      <td>4.5</td>\n",
       "      <td>Europe</td>\n",
       "    </tr>\n",
       "    <tr>\n",
       "      <th>1000</th>\n",
       "      <td>John</td>\n",
       "      <td>33</td>\n",
       "      <td>USA</td>\n",
       "      <td>6.7</td>\n",
       "      <td>America</td>\n",
       "    </tr>\n",
       "  </tbody>\n",
       "</table>\n",
       "</div>"
      ],
      "text/plain": [
       "         name  age country  score continent\n",
       "user_id                                    \n",
       "1001     Mark   55   Italy    4.5    Europe\n",
       "1000     John   33     USA    6.7   America"
      ]
     },
     "execution_count": 37,
     "metadata": {},
     "output_type": "execute_result"
    }
   ],
   "source": [
    "data = [[\"Mark\", 55, \"Italy\", 4.5, \"Europe\"],\n",
    "       [\"John\", 33, \"USA\", 6.7, \"America\"]]\n",
    "df = pd.DataFrame(data=data,\n",
    "                  columns=[\"name\", \"age\", \"country\",\n",
    "                           \"score\", \"continent\"],\n",
    "                  index=[1001, 1000])\n",
    "df.index.name = \"user_id\"\n",
    "df"
   ]
  },
  {
   "cell_type": "code",
   "execution_count": 38,
   "id": "145d1061",
   "metadata": {},
   "outputs": [],
   "source": [
    "sheet1[\"A6\"].value = df"
   ]
  },
  {
   "cell_type": "code",
   "execution_count": 39,
   "id": "421ee970",
   "metadata": {},
   "outputs": [],
   "source": [
    "sheet1[\"B10\"].options(header=False, index=False).value = df"
   ]
  },
  {
   "cell_type": "code",
   "execution_count": 40,
   "id": "8e33fa54",
   "metadata": {},
   "outputs": [
    {
     "data": {
      "text/html": [
       "<div>\n",
       "<style scoped>\n",
       "    .dataframe tbody tr th:only-of-type {\n",
       "        vertical-align: middle;\n",
       "    }\n",
       "\n",
       "    .dataframe tbody tr th {\n",
       "        vertical-align: top;\n",
       "    }\n",
       "\n",
       "    .dataframe thead th {\n",
       "        text-align: right;\n",
       "    }\n",
       "</style>\n",
       "<table border=\"1\" class=\"dataframe\">\n",
       "  <thead>\n",
       "    <tr style=\"text-align: right;\">\n",
       "      <th></th>\n",
       "      <th>name</th>\n",
       "      <th>age</th>\n",
       "      <th>country</th>\n",
       "      <th>score</th>\n",
       "      <th>continent</th>\n",
       "    </tr>\n",
       "    <tr>\n",
       "      <th>user_id</th>\n",
       "      <th></th>\n",
       "      <th></th>\n",
       "      <th></th>\n",
       "      <th></th>\n",
       "      <th></th>\n",
       "    </tr>\n",
       "  </thead>\n",
       "  <tbody>\n",
       "    <tr>\n",
       "      <th>1001.0</th>\n",
       "      <td>Mark</td>\n",
       "      <td>55.0</td>\n",
       "      <td>Italy</td>\n",
       "      <td>4.5</td>\n",
       "      <td>Europe</td>\n",
       "    </tr>\n",
       "    <tr>\n",
       "      <th>1000.0</th>\n",
       "      <td>John</td>\n",
       "      <td>33.0</td>\n",
       "      <td>USA</td>\n",
       "      <td>6.7</td>\n",
       "      <td>America</td>\n",
       "    </tr>\n",
       "  </tbody>\n",
       "</table>\n",
       "</div>"
      ],
      "text/plain": [
       "         name   age country  score continent\n",
       "user_id                                     \n",
       "1001.0   Mark  55.0   Italy    4.5    Europe\n",
       "1000.0   John  33.0     USA    6.7   America"
      ]
     },
     "execution_count": 40,
     "metadata": {},
     "output_type": "execute_result"
    }
   ],
   "source": [
    "df2 = sheet1[\"A6\"].expand().options(pd.DataFrame).value\n",
    "df2"
   ]
  },
  {
   "cell_type": "code",
   "execution_count": 41,
   "id": "101120aa",
   "metadata": {},
   "outputs": [
    {
     "data": {
      "text/html": [
       "<div>\n",
       "<style scoped>\n",
       "    .dataframe tbody tr th:only-of-type {\n",
       "        vertical-align: middle;\n",
       "    }\n",
       "\n",
       "    .dataframe tbody tr th {\n",
       "        vertical-align: top;\n",
       "    }\n",
       "\n",
       "    .dataframe thead th {\n",
       "        text-align: right;\n",
       "    }\n",
       "</style>\n",
       "<table border=\"1\" class=\"dataframe\">\n",
       "  <thead>\n",
       "    <tr style=\"text-align: right;\">\n",
       "      <th></th>\n",
       "      <th>name</th>\n",
       "      <th>age</th>\n",
       "      <th>country</th>\n",
       "      <th>score</th>\n",
       "      <th>continent</th>\n",
       "    </tr>\n",
       "    <tr>\n",
       "      <th>user_id</th>\n",
       "      <th></th>\n",
       "      <th></th>\n",
       "      <th></th>\n",
       "      <th></th>\n",
       "      <th></th>\n",
       "    </tr>\n",
       "  </thead>\n",
       "  <tbody>\n",
       "    <tr>\n",
       "      <th>1001</th>\n",
       "      <td>Mark</td>\n",
       "      <td>55.0</td>\n",
       "      <td>Italy</td>\n",
       "      <td>4.5</td>\n",
       "      <td>Europe</td>\n",
       "    </tr>\n",
       "    <tr>\n",
       "      <th>1000</th>\n",
       "      <td>John</td>\n",
       "      <td>33.0</td>\n",
       "      <td>USA</td>\n",
       "      <td>6.7</td>\n",
       "      <td>America</td>\n",
       "    </tr>\n",
       "  </tbody>\n",
       "</table>\n",
       "</div>"
      ],
      "text/plain": [
       "         name   age country  score continent\n",
       "user_id                                     \n",
       "1001     Mark  55.0   Italy    4.5    Europe\n",
       "1000     John  33.0     USA    6.7   America"
      ]
     },
     "execution_count": 41,
     "metadata": {},
     "output_type": "execute_result"
    }
   ],
   "source": [
    "# If you want the index to be an integer index, \n",
    "# you can change its data type\n",
    "df2.index = df2.index.astype(int)\n",
    "df2"
   ]
  },
  {
   "cell_type": "code",
   "execution_count": 42,
   "id": "524edebb",
   "metadata": {},
   "outputs": [
    {
     "data": {
      "text/html": [
       "<div>\n",
       "<style scoped>\n",
       "    .dataframe tbody tr th:only-of-type {\n",
       "        vertical-align: middle;\n",
       "    }\n",
       "\n",
       "    .dataframe tbody tr th {\n",
       "        vertical-align: top;\n",
       "    }\n",
       "\n",
       "    .dataframe thead th {\n",
       "        text-align: right;\n",
       "    }\n",
       "</style>\n",
       "<table border=\"1\" class=\"dataframe\">\n",
       "  <thead>\n",
       "    <tr style=\"text-align: right;\">\n",
       "      <th></th>\n",
       "      <th>user_id</th>\n",
       "      <th>name</th>\n",
       "      <th>age</th>\n",
       "      <th>country</th>\n",
       "      <th>score</th>\n",
       "      <th>continent</th>\n",
       "    </tr>\n",
       "  </thead>\n",
       "  <tbody>\n",
       "    <tr>\n",
       "      <th>0</th>\n",
       "      <td>1001.0</td>\n",
       "      <td>Mark</td>\n",
       "      <td>55.0</td>\n",
       "      <td>Italy</td>\n",
       "      <td>4.5</td>\n",
       "      <td>Europe</td>\n",
       "    </tr>\n",
       "    <tr>\n",
       "      <th>1</th>\n",
       "      <td>1000.0</td>\n",
       "      <td>John</td>\n",
       "      <td>33.0</td>\n",
       "      <td>USA</td>\n",
       "      <td>6.7</td>\n",
       "      <td>America</td>\n",
       "    </tr>\n",
       "  </tbody>\n",
       "</table>\n",
       "</div>"
      ],
      "text/plain": [
       "   user_id  name   age country  score continent\n",
       "0   1001.0  Mark  55.0   Italy    4.5    Europe\n",
       "1   1000.0  John  33.0     USA    6.7   America"
      ]
     },
     "execution_count": 42,
     "metadata": {},
     "output_type": "execute_result"
    }
   ],
   "source": [
    "# By setting index=False, it will put all the values from Excel into \n",
    "# the data part of the DataFrame and will use the default index\n",
    "sheet1[\"A6\"].expand().options(pd.DataFrame, index=False).value"
   ]
  },
  {
   "cell_type": "markdown",
   "id": "dba6c7f8",
   "metadata": {},
   "source": [
    "### Converters and Options "
   ]
  },
  {
   "cell_type": "code",
   "execution_count": 43,
   "id": "b8aac67b",
   "metadata": {},
   "outputs": [
    {
     "data": {
      "text/plain": [
       "[1.0, 2.0]"
      ]
     },
     "execution_count": 43,
     "metadata": {},
     "output_type": "execute_result"
    }
   ],
   "source": [
    "# Horizontal range (one-dimensional) \n",
    "sheet1[\"A1:B1\"].value"
   ]
  },
  {
   "cell_type": "code",
   "execution_count": 44,
   "id": "479c2b23",
   "metadata": {},
   "outputs": [
    {
     "data": {
      "text/plain": [
       "[1.0, 3.0]"
      ]
     },
     "execution_count": 44,
     "metadata": {},
     "output_type": "execute_result"
    }
   ],
   "source": [
    "# Vertical range (one-dimensional) \n",
    "sheet1[\"A1:A2\"].value"
   ]
  },
  {
   "cell_type": "code",
   "execution_count": 45,
   "id": "f1018178",
   "metadata": {},
   "outputs": [
    {
     "data": {
      "text/plain": [
       "[[1.0, 2.0]]"
      ]
     },
     "execution_count": 45,
     "metadata": {},
     "output_type": "execute_result"
    }
   ],
   "source": [
    "# Horizontal range (two-dimensional) \n",
    "sheet1[\"A1:B1\"].options(ndim=2).value"
   ]
  },
  {
   "cell_type": "code",
   "execution_count": 46,
   "id": "9b3a86a9",
   "metadata": {},
   "outputs": [
    {
     "data": {
      "text/plain": [
       "[[1.0], [3.0]]"
      ]
     },
     "execution_count": 46,
     "metadata": {},
     "output_type": "execute_result"
    }
   ],
   "source": [
    "# Vertical range (two-dimensional) \n",
    "sheet1[\"A1:A2\"].options(ndim=2).value"
   ]
  },
  {
   "cell_type": "code",
   "execution_count": 47,
   "id": "5535e8f3",
   "metadata": {},
   "outputs": [
    {
     "data": {
      "text/plain": [
       "array([1., 3.])"
      ]
     },
     "execution_count": 47,
     "metadata": {},
     "output_type": "execute_result"
    }
   ],
   "source": [
    "# Using the NumPy array converter behaves the same: \n",
    "# vertical range leads to a one-dimensional array \n",
    "sheet1[\"A1:A2\"].options(np.array).value"
   ]
  },
  {
   "cell_type": "code",
   "execution_count": 48,
   "id": "2969e73a",
   "metadata": {},
   "outputs": [
    {
     "data": {
      "text/plain": [
       "array([[1.],\n",
       "       [3.]])"
      ]
     },
     "execution_count": 48,
     "metadata": {},
     "output_type": "execute_result"
    }
   ],
   "source": [
    "# Preserving the column orientation \n",
    "sheet1[\"A1:A2\"].options(np.array, ndim=2).value"
   ]
  },
  {
   "cell_type": "code",
   "execution_count": 49,
   "id": "dd6c1179",
   "metadata": {},
   "outputs": [],
   "source": [
    "# If you need to write out a list vertically,\n",
    "# the \"transpose\" option comes in handy \n",
    "sheet1[\"D1\"].options(transpose=True).value = [100, 200]"
   ]
  },
  {
   "cell_type": "code",
   "execution_count": 50,
   "id": "3c59cc78",
   "metadata": {},
   "outputs": [],
   "source": [
    "# Write out some sample data\n",
    "sheet1[\"A13\"].value = [dt.datetime(2020, 1, 1), None, 1.0]"
   ]
  },
  {
   "cell_type": "code",
   "execution_count": 51,
   "id": "93ae5c95",
   "metadata": {},
   "outputs": [
    {
     "data": {
      "text/plain": [
       "[datetime.datetime(2020, 1, 1, 0, 0), None, 1.0]"
      ]
     },
     "execution_count": 51,
     "metadata": {},
     "output_type": "execute_result"
    }
   ],
   "source": [
    "# Read it back using the default options \n",
    "sheet1[\"A13:C13\"].value"
   ]
  },
  {
   "cell_type": "code",
   "execution_count": 52,
   "id": "32a50908",
   "metadata": {},
   "outputs": [
    {
     "data": {
      "text/plain": [
       "[datetime.date(2020, 1, 1), 'NA', 1]"
      ]
     },
     "execution_count": 52,
     "metadata": {},
     "output_type": "execute_result"
    }
   ],
   "source": [
    "# Read it back using non-default options \n",
    "sheet1[\"A13:C13\"].options(empty=\"NA\",\n",
    "                          dates=dt.date,\n",
    "                          numbers=int).value"
   ]
  },
  {
   "cell_type": "markdown",
   "id": "294b65eb",
   "metadata": {},
   "source": [
    "### Charts, Pictures, and Defined Names "
   ]
  },
  {
   "cell_type": "markdown",
   "id": "de7efc13",
   "metadata": {},
   "source": [
    "#### Exel Charts "
   ]
  },
  {
   "cell_type": "code",
   "execution_count": 53,
   "id": "e29c4bdb",
   "metadata": {},
   "outputs": [],
   "source": [
    "sheet1[\"A15\"].value = [[None, \"North\", \"South\"],\n",
    "                       [\"Last Year\", 2, 5],\n",
    "                       [\"This Year\", 3, 6]]"
   ]
  },
  {
   "cell_type": "code",
   "execution_count": 54,
   "id": "3725ce2c",
   "metadata": {},
   "outputs": [],
   "source": [
    "chart = sheet1.charts.add(top=sheet1[\"A19\"].top,\n",
    "                          left=sheet1[\"A19\"].left)\n",
    "chart.chart_type = \"column_clustered\"\n",
    "chart.set_source_data(sheet1[\"A15\"].expand())"
   ]
  },
  {
   "cell_type": "markdown",
   "id": "c2a693ae",
   "metadata": {},
   "source": [
    "#### Pictures: Matplotlib plots"
   ]
  },
  {
   "cell_type": "code",
   "execution_count": 55,
   "id": "fed6a9b0",
   "metadata": {},
   "outputs": [
    {
     "data": {
      "text/html": [
       "<div>\n",
       "<style scoped>\n",
       "    .dataframe tbody tr th:only-of-type {\n",
       "        vertical-align: middle;\n",
       "    }\n",
       "\n",
       "    .dataframe tbody tr th {\n",
       "        vertical-align: top;\n",
       "    }\n",
       "\n",
       "    .dataframe thead th {\n",
       "        text-align: right;\n",
       "    }\n",
       "</style>\n",
       "<table border=\"1\" class=\"dataframe\">\n",
       "  <thead>\n",
       "    <tr style=\"text-align: right;\">\n",
       "      <th></th>\n",
       "      <th>North</th>\n",
       "      <th>South</th>\n",
       "    </tr>\n",
       "  </thead>\n",
       "  <tbody>\n",
       "    <tr>\n",
       "      <th>Last Year</th>\n",
       "      <td>2.0</td>\n",
       "      <td>5.0</td>\n",
       "    </tr>\n",
       "    <tr>\n",
       "      <th>This Year</th>\n",
       "      <td>3.0</td>\n",
       "      <td>6.0</td>\n",
       "    </tr>\n",
       "  </tbody>\n",
       "</table>\n",
       "</div>"
      ],
      "text/plain": [
       "           North  South\n",
       "Last Year    2.0    5.0\n",
       "This Year    3.0    6.0"
      ]
     },
     "execution_count": 55,
     "metadata": {},
     "output_type": "execute_result"
    }
   ],
   "source": [
    "# Read in the chart data as DataFrame\n",
    "df = sheet1[\"A15\"].expand().options(pd.DataFrame).value \n",
    "df"
   ]
  },
  {
   "cell_type": "code",
   "execution_count": 56,
   "id": "92643122",
   "metadata": {},
   "outputs": [
    {
     "data": {
      "text/plain": [
       "Index(['Last Year', 'This Year'], dtype='object')"
      ]
     },
     "execution_count": 56,
     "metadata": {},
     "output_type": "execute_result"
    }
   ],
   "source": [
    "df.index"
   ]
  },
  {
   "cell_type": "code",
   "execution_count": 57,
   "id": "30140f7d",
   "metadata": {},
   "outputs": [
    {
     "name": "stderr",
     "output_type": "stream",
     "text": [
      "/var/folders/sk/l79fh3f57gb_4xq3w3r4vvbm0000gn/T/ipykernel_8112/1939635510.py:5: MatplotlibDeprecationWarning: The seaborn styles shipped by Matplotlib are deprecated since 3.6, as they no longer correspond to the styles shipped by seaborn. However, they will remain available as 'seaborn-v0_8-<style>'. Alternatively, directly use the seaborn API instead.\n",
      "  plt.style.use(\"seaborn\")\n"
     ]
    }
   ],
   "source": [
    "# Enable Matplotlib by using the notebook magic command \n",
    "# and switch to the \"seaborn\" style\n",
    "%matplotlib inline\n",
    "import matplotlib.pyplot as plt \n",
    "plt.style.use(\"seaborn\")"
   ]
  },
  {
   "cell_type": "code",
   "execution_count": 58,
   "id": "d580be88",
   "metadata": {},
   "outputs": [
    {
     "data": {
      "image/png": "[encoded data removed]",
      "text/plain": [
       "<Figure size 800x550 with 1 Axes>"
      ]
     },
     "metadata": {},
     "output_type": "display_data"
    }
   ],
   "source": [
    "# The pandas plot method returns an \"axis\" object from\n",
    "# where you can get the figure. \"T\" transposes the\n",
    "# DataFrame to bring the plot into the desired orientation\n",
    "ax = df.T.plot.bar()\n",
    "fig = ax.get_figure()"
   ]
  },
  {
   "cell_type": "code",
   "execution_count": 59,
   "id": "fcf1289d",
   "metadata": {},
   "outputs": [],
   "source": [
    "# Send the plot to Excel\n",
    "plot = sheet1.pictures.add(fig, name=\"SalesPlot\",\n",
    "                           top=sheet1[\"H19\"].top,\n",
    "                           left=sheet1[\"H19\"].left)\n",
    "# Let's scale the plot to 70%\n",
    "plot.width, plot.height = plot.width * 0.7, plot.height * 0.7"
   ]
  },
  {
   "cell_type": "code",
   "execution_count": 60,
   "id": "762599d7",
   "metadata": {},
   "outputs": [],
   "source": [
    "ax = (df + 1).T.plot.bar()\n",
    "plot = plot.update(ax.get_figure())"
   ]
  },
  {
   "cell_type": "markdown",
   "id": "3154d46a",
   "metadata": {},
   "source": [
    "#### Defined names"
   ]
  },
  {
   "cell_type": "code",
   "execution_count": 61,
   "id": "c0bb708d",
   "metadata": {},
   "outputs": [],
   "source": [
    "# The book scope is the default scope \n",
    "sheet1[\"A1:B2\"].name = \"matrix1\""
   ]
  },
  {
   "cell_type": "code",
   "execution_count": 62,
   "id": "d166cd11",
   "metadata": {},
   "outputs": [],
   "source": [
    "# For the sheet scope, prepend the sheet name with \n",
    "# an exclamation point\n",
    "sheet1[\"B10:E11\"].name = \"Sheet1!matrix2\""
   ]
  },
  {
   "cell_type": "code",
   "execution_count": 63,
   "id": "d1fc7d5c",
   "metadata": {},
   "outputs": [
    {
     "data": {
      "text/plain": [
       "<Range [Book3]Sheet1!$A$1:$B$2>"
      ]
     },
     "execution_count": 63,
     "metadata": {},
     "output_type": "execute_result"
    }
   ],
   "source": [
    "# Now you can access the range by name\n",
    "sheet1[\"matrix1\"]"
   ]
  },
  {
   "cell_type": "code",
   "execution_count": 64,
   "id": "691ea7c5",
   "metadata": {},
   "outputs": [
    {
     "data": {
      "text/plain": [
       "[<Name 'Sheet1!matrix2': =Sheet1!$B$10:$E$11>]"
      ]
     },
     "execution_count": 64,
     "metadata": {},
     "output_type": "execute_result"
    }
   ],
   "source": [
    "# If you access the names collection via the \"sheet1\" object, \n",
    "# it contains only names with that sheet's scope \n",
    "sheet1.names"
   ]
  },
  {
   "cell_type": "code",
   "execution_count": 65,
   "id": "8a3e25a0",
   "metadata": {},
   "outputs": [
    {
     "data": {
      "text/plain": [
       "[<Name 'matrix1': =Sheet1!$A$1:$B$2>, <Name 'Sheet1!matrix2': =Sheet1!$B$10:$E$11>]"
      ]
     },
     "execution_count": 65,
     "metadata": {},
     "output_type": "execute_result"
    }
   ],
   "source": [
    "# If you access the names collection via the \"book\" object, \n",
    "# it contains all names, including book and sheet scope \n",
    "book.names"
   ]
  },
  {
   "cell_type": "code",
   "execution_count": 66,
   "id": "bee6f90a",
   "metadata": {},
   "outputs": [
    {
     "data": {
      "text/plain": [
       "<Range [Book3]Sheet1!$A$1:$B$2>"
      ]
     },
     "execution_count": 66,
     "metadata": {},
     "output_type": "execute_result"
    }
   ],
   "source": [
    "# Names have various methods and attributes.\n",
    "# You can, for example, get the respective range object. \n",
    "book.names[\"matrix1\"].refers_to_range"
   ]
  },
  {
   "cell_type": "code",
   "execution_count": 67,
   "id": "541ba50a",
   "metadata": {},
   "outputs": [
    {
     "data": {
      "text/plain": [
       "<Name 'EURUSD': =1.1151>"
      ]
     },
     "execution_count": 67,
     "metadata": {},
     "output_type": "execute_result"
    }
   ],
   "source": [
    "# If you want to assign a name to a constant \n",
    "# or a formula, use the \"add\" method\n",
    "book.names.add(\"EURUSD\", \"=1.1151\")"
   ]
  },
  {
   "cell_type": "markdown",
   "id": "7df4ef83",
   "metadata": {},
   "source": [
    "## Advanced xlwings Topics "
   ]
  },
  {
   "cell_type": "markdown",
   "id": "bd84adba",
   "metadata": {},
   "source": [
    "### Improving Performance "
   ]
  },
  {
   "cell_type": "markdown",
   "id": "1120879d",
   "metadata": {},
   "source": [
    "#### Minimize cross-application calls "
   ]
  },
  {
   "cell_type": "code",
   "execution_count": 68,
   "id": "b567cd2a",
   "metadata": {},
   "outputs": [],
   "source": [
    "# Add a new sheet and write 150 values\n",
    "# to it to have something to work with\n",
    "sheet2 = book.sheets.add()\n",
    "sheet2[\"A1\"].value = np.arange(150).reshape(30, 5)"
   ]
  },
  {
   "cell_type": "code",
   "execution_count": 69,
   "id": "a7cdd627",
   "metadata": {},
   "outputs": [
    {
     "name": "stdout",
     "output_type": "stream",
     "text": [
      "CPU times: user 363 ms, sys: 177 ms, total: 540 ms\n",
      "Wall time: 4.31 s\n"
     ]
    }
   ],
   "source": [
    "%%time\n",
    "# This makes 150 cross-application calls \n",
    "for cell in sheet2[\"A1:E30\"]:\n",
    "    cell.value += 1"
   ]
  },
  {
   "cell_type": "code",
   "execution_count": 70,
   "id": "6c99970e",
   "metadata": {},
   "outputs": [
    {
     "name": "stdout",
     "output_type": "stream",
     "text": [
      "CPU times: user 27.6 ms, sys: 15.7 ms, total: 43.3 ms\n",
      "Wall time: 64.9 ms\n"
     ]
    }
   ],
   "source": [
    "%%time\n",
    "# This makes just two cross-application calls \n",
    "values = sheet2[\"A1:E30\"].options(np.array).value \n",
    "sheet2[\"A1\"].value = values + 1"
   ]
  },
  {
   "cell_type": "markdown",
   "id": "648dabce",
   "metadata": {},
   "source": [
    "#### Raw values "
   ]
  },
  {
   "cell_type": "markdown",
   "id": "6339ca67",
   "metadata": {},
   "source": [
    "Using raw values, however, means that you cannot directly work with DataFrames anymore. Instead, you need to provide your values as nested lists or tuples. Also, you will need to provide the full address of the range you are writing to—providing the top-left cell isn’t enough anymore:"
   ]
  },
  {
   "cell_type": "code",
   "execution_count": 71,
   "id": "dfab01dc",
   "metadata": {},
   "outputs": [],
   "source": [
    "# With raw values, you must provide the full\n",
    "# target range, sheet[\"A35\"] doesn't work anymore \n",
    "sheet1[\"A35:B36\"].options(\"raw\").value = [[1, 2], [3, 4]]"
   ]
  },
  {
   "cell_type": "markdown",
   "id": "b4ed4308",
   "metadata": {},
   "source": [
    "#### App properties"
   ]
  },
  {
   "cell_type": "markdown",
   "id": "45ddd9e7",
   "metadata": {},
   "source": [
    "Depending on the content of your workbook, changing the properties of your app objects can also help to make code run faster. Usually, you want to look at the follow‐ ing properties (myapp is an xlwings app object):\n",
    "+ myapp.screen_updating = False\n",
    "+ myapp.calculation = \"manual\"\n",
    "+ myapp.display_alerts = False\n",
    "\n",
    "At the end of the script, make sure to set the attributes back to their original state. If you are on Windows, you may also see a slight performance improvement by running your script in a hidden Excel instance via **xw.App(visible=False)**."
   ]
  },
  {
   "cell_type": "markdown",
   "id": "cc1485c7",
   "metadata": {},
   "source": [
    "### How to Work Around Missing Functionality "
   ]
  },
  {
   "cell_type": "markdown",
   "id": "539f3bf3",
   "metadata": {},
   "source": [
    "xlwings gives you access to the underlying pywin32 object on Windows and the appscript object on macOS by using the api attribute on any xlwings object. This way, you have access to the whole Excel object model, but in turn, you lose cross-platform compatibility. "
   ]
  },
  {
   "cell_type": "code",
   "execution_count": null,
   "id": "5df3d090",
   "metadata": {},
   "outputs": [],
   "source": [
    "import sys\n",
    "if sys.platform.startswith(\"darwin\"):\n",
    "    sheet[\"A10\"].api.clear_formats() \n",
    "elif sys.platform.startswith(\"win\"):\n",
    "    sheet[\"A10\"].api.ClearFormats()"
   ]
  }
 ],
 "metadata": {
  "kernelspec": {
   "display_name": "Python 3 (ipykernel)",
   "language": "python",
   "name": "python3"
  },
  "language_info": {
   "codemirror_mode": {
    "name": "ipython",
    "version": 3
   },
   "file_extension": ".py",
   "mimetype": "text/x-python",
   "name": "python",
   "nbconvert_exporter": "python",
   "pygments_lexer": "ipython3",
   "version": "3.8.13"
  }
 },
 "nbformat": 4,
 "nbformat_minor": 5
}
