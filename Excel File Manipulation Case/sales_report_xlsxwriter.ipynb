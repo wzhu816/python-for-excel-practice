{
 "cells": [
  {
   "cell_type": "code",
   "execution_count": 1,
   "id": "bf5cf43c",
   "metadata": {},
   "outputs": [],
   "source": [
    "from pathlib import Path\n",
    "import os\n",
    "\n",
    "import pandas as pd"
   ]
  },
  {
   "cell_type": "code",
   "execution_count": 2,
   "id": "72f60171",
   "metadata": {},
   "outputs": [],
   "source": [
    "# Directory of this file\n",
    "this_dir = os.getcwd()"
   ]
  },
  {
   "cell_type": "code",
   "execution_count": 3,
   "id": "38fa5ac8",
   "metadata": {},
   "outputs": [
    {
     "name": "stdout",
     "output_type": "stream",
     "text": [
      "Reading sales_report_openpyxl.xlsx\n",
      "Reading February.xlsx\n",
      "Reading August.xlsx\n",
      "Reading April.xlsx\n",
      "Reading June.xlsx\n",
      "Reading October.xlsx\n",
      "Reading September.xlsx\n",
      "Reading July.xlsx\n",
      "Reading January.xlsx\n",
      "Reading May.xlsx\n",
      "Reading November.xlsx\n",
      "Reading December.xlsx\n",
      "Reading March.xlsx\n",
      "Reading October.xls\n",
      "Reading September.xls\n",
      "Reading April.xls\n",
      "Reading June.xls\n",
      "Reading January.xls\n",
      "Reading July.xls\n",
      "Reading February.xls\n",
      "Reading December.xls\n",
      "Reading August.xls\n",
      "Reading November.xls\n",
      "Reading March.xls\n",
      "Reading May.xls\n"
     ]
    }
   ],
   "source": [
    "# Read in all files\n",
    "parts = []\n",
    "\n",
    "for file in Path(this_dir).rglob('*.xls*') :\n",
    "    print(f'Reading {file.name}')\n",
    "    part = pd.read_excel(file)\n",
    "    parts.append(part)"
   ]
  },
  {
   "cell_type": "code",
   "execution_count": 4,
   "id": "01f9e907",
   "metadata": {},
   "outputs": [],
   "source": [
    "# Combine the DataFrames from each file into a single DataFrame\n",
    "df = pd.concat(parts)"
   ]
  },
  {
   "cell_type": "code",
   "execution_count": 5,
   "id": "dc722288",
   "metadata": {},
   "outputs": [],
   "source": [
    "# Pivot each store into a column and sum up all transactions per date\n",
    "pivot = pd.pivot_table(df, \n",
    "                       index=\"transaction_date\", columns=\"store\",\n",
    "                       values=\"amount\", aggfunc=\"sum\")"
   ]
  },
  {
   "cell_type": "code",
   "execution_count": 6,
   "id": "96344ffc",
   "metadata": {},
   "outputs": [],
   "source": [
    "# Resample to end of month and assign an index name\n",
    "summary = pivot.resample(\"M\").sum()\n",
    "summary.index.name = \"Month\""
   ]
  },
  {
   "cell_type": "code",
   "execution_count": 7,
   "id": "405a1189",
   "metadata": {},
   "outputs": [
    {
     "data": {
      "text/html": [
       "<div>\n",
       "<style scoped>\n",
       "    .dataframe tbody tr th:only-of-type {\n",
       "        vertical-align: middle;\n",
       "    }\n",
       "\n",
       "    .dataframe tbody tr th {\n",
       "        vertical-align: top;\n",
       "    }\n",
       "\n",
       "    .dataframe thead th {\n",
       "        text-align: right;\n",
       "    }\n",
       "</style>\n",
       "<table border=\"1\" class=\"dataframe\">\n",
       "  <thead>\n",
       "    <tr style=\"text-align: right;\">\n",
       "      <th>store</th>\n",
       "      <th>Boston</th>\n",
       "      <th>Chicago</th>\n",
       "      <th>Las Vegas</th>\n",
       "      <th>New York</th>\n",
       "      <th>San Francisco</th>\n",
       "      <th>Washington DC</th>\n",
       "    </tr>\n",
       "    <tr>\n",
       "      <th>Month</th>\n",
       "      <th></th>\n",
       "      <th></th>\n",
       "      <th></th>\n",
       "      <th></th>\n",
       "      <th></th>\n",
       "      <th></th>\n",
       "    </tr>\n",
       "  </thead>\n",
       "  <tbody>\n",
       "    <tr>\n",
       "      <th>2019-01-31</th>\n",
       "      <td>21784.10</td>\n",
       "      <td>51187.70</td>\n",
       "      <td>23012.75</td>\n",
       "      <td>49872.85</td>\n",
       "      <td>58629.85</td>\n",
       "      <td>14057.60</td>\n",
       "    </tr>\n",
       "    <tr>\n",
       "      <th>2019-02-28</th>\n",
       "      <td>21454.90</td>\n",
       "      <td>52330.85</td>\n",
       "      <td>25493.10</td>\n",
       "      <td>46669.85</td>\n",
       "      <td>55218.65</td>\n",
       "      <td>15235.40</td>\n",
       "    </tr>\n",
       "    <tr>\n",
       "      <th>2019-03-31</th>\n",
       "      <td>20043.00</td>\n",
       "      <td>48897.25</td>\n",
       "      <td>23451.10</td>\n",
       "      <td>41572.25</td>\n",
       "      <td>52712.95</td>\n",
       "      <td>14177.05</td>\n",
       "    </tr>\n",
       "    <tr>\n",
       "      <th>2019-04-30</th>\n",
       "      <td>18791.05</td>\n",
       "      <td>47396.35</td>\n",
       "      <td>22710.15</td>\n",
       "      <td>41714.30</td>\n",
       "      <td>49324.65</td>\n",
       "      <td>13339.15</td>\n",
       "    </tr>\n",
       "    <tr>\n",
       "      <th>2019-05-31</th>\n",
       "      <td>18036.75</td>\n",
       "      <td>45117.05</td>\n",
       "      <td>21526.55</td>\n",
       "      <td>40610.40</td>\n",
       "      <td>47759.60</td>\n",
       "      <td>13147.10</td>\n",
       "    </tr>\n",
       "  </tbody>\n",
       "</table>\n",
       "</div>"
      ],
      "text/plain": [
       "store         Boston   Chicago  Las Vegas  New York  San Francisco  \\\n",
       "Month                                                                \n",
       "2019-01-31  21784.10  51187.70   23012.75  49872.85       58629.85   \n",
       "2019-02-28  21454.90  52330.85   25493.10  46669.85       55218.65   \n",
       "2019-03-31  20043.00  48897.25   23451.10  41572.25       52712.95   \n",
       "2019-04-30  18791.05  47396.35   22710.15  41714.30       49324.65   \n",
       "2019-05-31  18036.75  45117.05   21526.55  40610.40       47759.60   \n",
       "\n",
       "store       Washington DC  \n",
       "Month                      \n",
       "2019-01-31       14057.60  \n",
       "2019-02-28       15235.40  \n",
       "2019-03-31       14177.05  \n",
       "2019-04-30       13339.15  \n",
       "2019-05-31       13147.10  "
      ]
     },
     "execution_count": 7,
     "metadata": {},
     "output_type": "execute_result"
    }
   ],
   "source": [
    "summary.head()"
   ]
  },
  {
   "cell_type": "code",
   "execution_count": 8,
   "id": "6b3799e9",
   "metadata": {},
   "outputs": [],
   "source": [
    "# Sort columns by total revenue\n",
    "summary = summary.loc[:, summary.sum().sort_values().index]"
   ]
  },
  {
   "cell_type": "code",
   "execution_count": 9,
   "id": "c848bb6f",
   "metadata": {},
   "outputs": [],
   "source": [
    "# Add row total\n",
    "summary.loc[:, \"Total\"] = summary.sum(axis=1)"
   ]
  },
  {
   "cell_type": "code",
   "execution_count": 10,
   "id": "c517e1a5",
   "metadata": {},
   "outputs": [],
   "source": [
    "# Add column total\n",
    "summary.loc['Total'] = summary.sum()"
   ]
  },
  {
   "cell_type": "markdown",
   "id": "784877a2",
   "metadata": {},
   "source": [
    "# Write summary report to Excel file"
   ]
  },
  {
   "cell_type": "code",
   "execution_count": 11,
   "id": "a8571cbc",
   "metadata": {},
   "outputs": [],
   "source": [
    "# DataFrame position and number of rows/columns\n",
    "# xlsxwriter uses 0-based indices\n",
    "startrow, startcol = 2, 1\n",
    "nrows, ncols = summary.shape"
   ]
  },
  {
   "cell_type": "code",
   "execution_count": 12,
   "id": "5a828be8",
   "metadata": {},
   "outputs": [],
   "source": [
    "with pd.ExcelWriter(Path(this_dir)/\"sales_report_xlsxwriter.xlsx\",\n",
    "                   engine=\"xlsxwriter\", datetime_format=\"mmm yy\") as writer:    \n",
    "    summary.to_excel(writer, sheet_name=\"Sheet1\",\n",
    "                    startrow=startrow, startcol=startcol)\n",
    "    \n",
    "    # Get xlsxwriter book and sheet object\n",
    "    book = writer.book\n",
    "    sheet = writer.sheets[\"Sheet1\"]\n",
    "    \n",
    "    # Set title\n",
    "    title_format = book.add_format({\"bold\": True, \"size\": 24})\n",
    "    sheet.write(0, startcol, \"Sales Report\", title_format)\n",
    "    \n",
    "    # Sheet formatting\n",
    "    # 2 = hide on screen and when printing\n",
    "    sheet.hide_gridlines(2)\n",
    "    \n",
    "    # Format the DataFrame with\n",
    "    # - number format\n",
    "    # - column width\n",
    "    # - conditional formatting\n",
    "    number_format = book.add_format({\"num_format\": \"#,##0\",\n",
    "                                     \"align\": \"center\"})\n",
    "    below_target_format = book.add_format({\"font_color\": \"#E93423\"})\n",
    "    sheet.set_column(first_col=startcol, last_col=startcol + ncols,\n",
    "                     width=14, cell_format=number_format)\n",
    "    sheet.conditional_format(first_row=startrow + 1,\n",
    "                             first_col=startcol + 1,\n",
    "                             last_row = startrow + nrows,\n",
    "                             last_col = startcol + ncols,\n",
    "                             options={\"type\": \"cell\", \n",
    "                                      \"criteria\": \"<=\",\n",
    "                                      \"value\": 20000,\n",
    "                                      \"format\": below_target_format})\n",
    "    \n",
    "    # Chart\n",
    "    chart = book.add_chart({\"type\": \"column\"})\n",
    "    chart.set_title({\"name\": \"Sales per Month and Store\"})\n",
    "    chart.set_size({\"width\": 830, \"height\": 450})\n",
    "    \n",
    "    # Add each column as a series, ignoring total row and col\n",
    "    for col in range(1, ncols):\n",
    "        chart.add_series({\n",
    "            # [sheetname, first_row, first_col, last_row, last_col]\n",
    "            \"name\": [\"Sheet1\", startrow, startcol + col],\n",
    "            \"categories\": [\"Sheet1\", startrow + 1, startcol,\n",
    "                           startrow + nrows - 1, startcol],\n",
    "            \"values\": [\"Sheet1\", startrow + 1, startcol + col,\n",
    "                       startrow + nrows - 1, startcol + col],\n",
    "        })\n",
    "\n",
    "    # Chart formatting\n",
    "    chart.set_x_axis({\"name\": summary.index.name,\n",
    "                      \"major_tick_mark\": \"none\"})\n",
    "    chart.set_y_axis({\"name\": \"Sales\",\n",
    "                      \"line\": {\"none\": True},\n",
    "                      \"major_gridlines\": {\"visible\": True},\n",
    "                      \"major_tick_mark\": \"none\"})\n",
    "\n",
    "    # Add the chart to the sheet\n",
    "    sheet.insert_chart(startrow + nrows + 2, startcol, chart)"
   ]
  }
 ],
 "metadata": {
  "kernelspec": {
   "display_name": "Python 3 (ipykernel)",
   "language": "python",
   "name": "python3"
  },
  "language_info": {
   "codemirror_mode": {
    "name": "ipython",
    "version": 3
   },
   "file_extension": ".py",
   "mimetype": "text/x-python",
   "name": "python",
   "nbconvert_exporter": "python",
   "pygments_lexer": "ipython3",
   "version": "3.8.13"
  }
 },
 "nbformat": 4,
 "nbformat_minor": 5
}
