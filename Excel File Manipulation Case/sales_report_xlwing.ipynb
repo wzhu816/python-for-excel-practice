{
 "cells": [
  {
   "cell_type": "code",
   "execution_count": 13,
   "id": "d64e6394",
   "metadata": {},
   "outputs": [],
   "source": [
    "import os\n",
    "from pathlib import Path\n",
    "\n",
    "import pandas as pd\n",
    "import xlwings as xw"
   ]
  },
  {
   "cell_type": "code",
   "execution_count": 5,
   "id": "843f16ba",
   "metadata": {},
   "outputs": [],
   "source": [
    "this_dir = Path(os.getcwd())"
   ]
  },
  {
   "cell_type": "code",
   "execution_count": 6,
   "id": "e4936edd",
   "metadata": {},
   "outputs": [
    {
     "name": "stdout",
     "output_type": "stream",
     "text": [
      "Reading February.xlsx\n",
      "Reading August.xlsx\n",
      "Reading April.xlsx\n",
      "Reading June.xlsx\n",
      "Reading October.xlsx\n",
      "Reading September.xlsx\n",
      "Reading July.xlsx\n",
      "Reading January.xlsx\n",
      "Reading May.xlsx\n",
      "Reading November.xlsx\n",
      "Reading December.xlsx\n",
      "Reading March.xlsx\n",
      "Reading October.xls\n",
      "Reading September.xls\n",
      "Reading April.xls\n",
      "Reading June.xls\n",
      "Reading January.xls\n",
      "Reading July.xls\n",
      "Reading February.xls\n",
      "Reading December.xls\n",
      "Reading August.xls\n",
      "Reading November.xls\n",
      "Reading March.xls\n",
      "Reading May.xls\n"
     ]
    }
   ],
   "source": [
    "parts = []\n",
    "for file in (this_dir / \"sales_data\").rglob(\"*.xls*\"):\n",
    "    print(f'Reading {file.name}')\n",
    "    part = pd.read_excel(file)\n",
    "    parts.append(part)"
   ]
  },
  {
   "cell_type": "code",
   "execution_count": 7,
   "id": "fe6b5d04",
   "metadata": {},
   "outputs": [],
   "source": [
    "df = pd.concat(parts)"
   ]
  },
  {
   "cell_type": "code",
   "execution_count": 8,
   "id": "ff026f99",
   "metadata": {},
   "outputs": [],
   "source": [
    "pivot = pd.pivot_table(df,\n",
    "                       index=\"transaction_date\", columns=\"store\",\n",
    "                       values=\"amount\", aggfunc=\"sum\")"
   ]
  },
  {
   "cell_type": "code",
   "execution_count": 9,
   "id": "cc0ea28e",
   "metadata": {},
   "outputs": [],
   "source": [
    "summary = pivot.resample(\"M\").sum()\n",
    "summary.index.name = \"Month\""
   ]
  },
  {
   "cell_type": "code",
   "execution_count": 10,
   "id": "1821779e",
   "metadata": {},
   "outputs": [],
   "source": [
    "summary = summary.loc[:, summary.sum().sort_values().index]"
   ]
  },
  {
   "cell_type": "code",
   "execution_count": 11,
   "id": "674bd60a",
   "metadata": {},
   "outputs": [],
   "source": [
    "summary.loc[:, \"Total\"] = summary.sum(axis=1)\n",
    "summary.loc['Total'] = summary.sum()"
   ]
  },
  {
   "cell_type": "code",
   "execution_count": 14,
   "id": "25baf41f",
   "metadata": {},
   "outputs": [],
   "source": [
    "template = xw.Book(this_dir /\"sales_report_template.xlsx\")\n",
    "sheet = template.sheets[\"Sheet1\"]\n",
    "sheet[\"B3\"].value = summary\n",
    "sheet[\"B3\"].expand().columns.autofit()\n",
    "sheet.charts[\"Chart 1\"].set_source_data(sheet[\"B3\"].expand()[:-1, :-1])\n",
    "template.save(this_dir / \"sales_report_xlwings.xlsx\")"
   ]
  }
 ],
 "metadata": {
  "kernelspec": {
   "display_name": "Python 3 (ipykernel)",
   "language": "python",
   "name": "python3"
  },
  "language_info": {
   "codemirror_mode": {
    "name": "ipython",
    "version": 3
   },
   "file_extension": ".py",
   "mimetype": "text/x-python",
   "name": "python",
   "nbconvert_exporter": "python",
   "pygments_lexer": "ipython3",
   "version": "3.8.13"
  }
 },
 "nbformat": 4,
 "nbformat_minor": 5
}
